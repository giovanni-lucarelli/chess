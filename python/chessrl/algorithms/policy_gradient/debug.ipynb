{
 "cells": [
  {
   "cell_type": "markdown",
   "id": "13555a3c",
   "metadata": {},
   "source": [
    "# REINFORCE"
   ]
  },
  {
   "cell_type": "code",
   "execution_count": 1,
   "id": "18e6d29d",
   "metadata": {},
   "outputs": [
    {
     "name": "stderr",
     "output_type": "stream",
     "text": [
      "2025-08-28 10:18:11,611 - INFO - Loading config file...\n",
      "2025-08-28 10:18:11,853 - INFO - Loading config file...\n"
     ]
    }
   ],
   "source": [
    "# system\n",
    "import sys \n",
    "sys.path.insert(0, '../../../')\n",
    "\n",
    "# utils\n",
    "import numpy as np\n",
    "import torch  \n",
    "import logging\n",
    "from tqdm import tqdm \n",
    "from chessrl.utils.load_config import load_config\n",
    "from chessrl.utils.fen_parsing import parse_fen_cached\n",
    "from typing import List, Tuple, Dict\n",
    "\n",
    "\n",
    "import os\n",
    "config_path = os.path.join('./', 'config.json')\n",
    "config = load_config(config_path)\n",
    "logging.basicConfig(level=config['log_level'], format = '%(asctime)s - %(levelname)s - %(message)s')\n",
    "logger = logging.getLogger(__name__)\n",
    "\n",
    "# chess\n",
    "from chessrl import Env, SyzygyDefender\n",
    "from chessrl import chess_py as cp\n",
    "from chessrl.algorithms.policy_gradient.policy import Policy\n",
    "from chessrl.utils.move_idx import build_move_mappings"
   ]
  },
  {
   "cell_type": "code",
   "execution_count": 2,
   "id": "2d2de9f7",
   "metadata": {},
   "outputs": [
    {
     "name": "stderr",
     "output_type": "stream",
     "text": [
      "2025-08-28 10:18:11,860 - INFO - Loading config file...\n"
     ]
    }
   ],
   "source": [
    "# system\n",
    "import sys \n",
    "sys.path.insert(0, '../../')\n",
    "\n",
    "# utils\n",
    "import logging\n",
    "import os\n",
    "import argparse\n",
    "import numpy as np\n",
    "from chessrl.utils.load_config import load_config\n",
    "from chessrl.utils.endgame_loader import load_positions, get_stats, get_all_endgames_from_dtz\n",
    "\n",
    "# Import the optimized REINFORCE\n",
    "from chessrl.algorithms.policy_gradient.reinforce import REINFORCE"
   ]
  },
  {
   "cell_type": "code",
   "execution_count": 3,
   "id": "a2c098b6",
   "metadata": {},
   "outputs": [],
   "source": [
    "positions, dtz_groups = load_positions(csv_path=config['csv_path'])\n",
    "endgames = [pos['fen'] for pos in positions]\n",
    "train_endgames = np.random.choice(endgames, size=config['n_episodes'], replace=True).tolist()"
   ]
  },
  {
   "cell_type": "code",
   "execution_count": 4,
   "id": "af8703d8",
   "metadata": {},
   "outputs": [
    {
     "name": "stderr",
     "output_type": "stream",
     "text": [
      "2025-08-28 10:18:12,152 - INFO - Using MPS (Apple Silicon GPU)\n"
     ]
    }
   ],
   "source": [
    "agent = REINFORCE()"
   ]
  },
  {
   "cell_type": "markdown",
   "id": "f67a0b3d",
   "metadata": {},
   "source": [
    "### Train"
   ]
  },
  {
   "cell_type": "code",
   "execution_count": 14,
   "id": "735fee09",
   "metadata": {},
   "outputs": [],
   "source": [
    "n_episodes = len(train_endgames)\n",
    "n_batches = (n_episodes + agent.batch_size - 1) // agent.batch_size\n",
    "all_losses = []\n",
    "all_dtms = []\n",
    "\n",
    "# batch 0 (0-31)\n",
    "start_idx = 5 * agent.batch_size\n",
    "end_idx = min(start_idx + agent.batch_size, n_episodes)\n",
    "batch_endgames = train_endgames[start_idx:end_idx]\n",
    "\n",
    "envs = [Env.from_fen(fen, defender=agent.defender) for fen in batch_endgames]\n",
    "\n",
    "episodes_data = agent.sample_episodes(envs)\n",
    "\n",
    "loss, dtms = agent.train_batch(episodes_data)"
   ]
  },
  {
   "cell_type": "code",
   "execution_count": 15,
   "id": "0b41226c",
   "metadata": {},
   "outputs": [
    {
     "data": {
      "text/plain": [
       "-0.0344996340572834"
      ]
     },
     "execution_count": 15,
     "metadata": {},
     "output_type": "execute_result"
    }
   ],
   "source": [
    "loss"
   ]
  },
  {
   "cell_type": "code",
   "execution_count": 16,
   "id": "cddb760f",
   "metadata": {},
   "outputs": [
    {
     "data": {
      "text/plain": [
       "[]"
      ]
     },
     "execution_count": 16,
     "metadata": {},
     "output_type": "execute_result"
    }
   ],
   "source": [
    "dtms"
   ]
  },
  {
   "cell_type": "markdown",
   "id": "7ede2876",
   "metadata": {},
   "source": [
    "### Sample episode"
   ]
  },
  {
   "cell_type": "code",
   "execution_count": 6,
   "id": "0004d77b",
   "metadata": {},
   "outputs": [],
   "source": [
    "move_to_idx, idx_to_move = build_move_mappings()"
   ]
  },
  {
   "cell_type": "code",
   "execution_count": 7,
   "id": "3154cda2",
   "metadata": {},
   "outputs": [],
   "source": [
    "def get_legal_move_indices(env):\n",
    "    \"\"\"\n",
    "    Get indices of legal moves for the current position.\n",
    "    \"\"\"\n",
    "    legal_moves_idx = []\n",
    "    \n",
    "    for move in env.state().legal_moves(cp.Color.WHITE):\n",
    "        move_str = cp.Move.to_uci(move)[:4]\n",
    "        if move_str in move_to_idx:\n",
    "            legal_moves_idx.append(move_to_idx[move_str])\n",
    "    return legal_moves_idx"
   ]
  },
  {
   "cell_type": "code",
   "execution_count": 8,
   "id": "cdd7d082",
   "metadata": {},
   "outputs": [],
   "source": [
    "batch_size = len(envs)\n",
    "episodes_data = [{'states': [], 'actions': [], 'rewards': [], 'action_indices': [], 'done': False} \n",
    "                for _ in range(batch_size)]"
   ]
  },
  {
   "cell_type": "code",
   "execution_count": 9,
   "id": "a0b79106",
   "metadata": {},
   "outputs": [],
   "source": [
    "batch_fens = []\n",
    "batch_legal_moves = []\n",
    "active_indices = []"
   ]
  },
  {
   "cell_type": "code",
   "execution_count": 10,
   "id": "b0008c68",
   "metadata": {},
   "outputs": [],
   "source": [
    "for i, env in enumerate(envs):\n",
    "    if not episodes_data[i]['done']:\n",
    "        current_fen = env.to_fen()\n",
    "        legal_moves = get_legal_move_indices(env)\n",
    "        \n",
    "        if not legal_moves or env.state().is_game_over():\n",
    "            episodes_data[i]['done'] = True\n",
    "            continue\n",
    "        \n",
    "        batch_fens.append(current_fen)\n",
    "        batch_legal_moves.append(legal_moves)\n",
    "        active_indices.append(i)"
   ]
  },
  {
   "cell_type": "code",
   "execution_count": 11,
   "id": "c48d4b4d",
   "metadata": {},
   "outputs": [
    {
     "data": {
      "text/plain": [
       "<Game fen=\"8/1k6/4R3/8/3K4/8/8/8 w - - 0 1\">"
      ]
     },
     "execution_count": 11,
     "metadata": {},
     "output_type": "execute_result"
    }
   ],
   "source": [
    "env.state()"
   ]
  },
  {
   "cell_type": "code",
   "execution_count": 12,
   "id": "9688d4e5",
   "metadata": {},
   "outputs": [],
   "source": [
    "for step in range(config['max_steps']):\n",
    "    # Collect states and legal moves for active episodes\n",
    "    batch_fens = []\n",
    "    batch_legal_moves = []\n",
    "    active_indices = []\n",
    "    \n",
    "    for i, env in enumerate(envs):\n",
    "        if not episodes_data[i]['done']:\n",
    "            current_fen = env.to_fen()\n",
    "            legal_moves = get_legal_move_indices(env) # idx of actions\n",
    "            \n",
    "            if not legal_moves or env.state().is_game_over():\n",
    "                episodes_data[i]['done'] = True\n",
    "                continue\n",
    "            \n",
    "            batch_fens.append(current_fen)\n",
    "            batch_legal_moves.append(legal_moves)\n",
    "            active_indices.append(i)\n",
    "    \n",
    "    if not active_indices:\n",
    "        break  # All episodes are done\n",
    "    \n",
    "    # Batch process active episodes\n",
    "    if batch_fens:\n",
    "        # Parse all FENs and stack into batch tensor\n",
    "        fen_tensors = torch.stack([\n",
    "            parse_fen_cached(fen, agent.fen_cache) for fen in batch_fens\n",
    "        ]).to(agent.device)\n",
    "        \n",
    "        # Get action probabilities for entire batch\n",
    "        with torch.no_grad():\n",
    "            # Forward pass for entire batch\n",
    "            batch_logits = agent.policy.forward(fen_tensors)\n",
    "            \n",
    "            # Process each episode in the batch\n",
    "            for batch_idx, env_idx in enumerate(active_indices):\n",
    "                legal_moves = batch_legal_moves[batch_idx]\n",
    "                logits = batch_logits[batch_idx]\n",
    "                \n",
    "                # Create mask for legal moves\n",
    "                mask = torch.zeros(4096, device=agent.device)\n",
    "                mask[legal_moves] = 1\n",
    "                \n",
    "                # Apply mask and get probabilities\n",
    "                masked_logits = logits.masked_fill(mask == 0, float('-inf'))\n",
    "                action_probs = torch.softmax(masked_logits, dim=-1)\n",
    "                log_probs = torch.log_softmax(masked_logits, dim=-1)\n",
    "                \n",
    "                # Sample action\n",
    "                legal_probs = action_probs[legal_moves].cpu().numpy()\n",
    "                legal_probs = legal_probs + 1e-8 # for numerical stability\n",
    "                legal_probs = legal_probs / legal_probs.sum()\n",
    "                \n",
    "                selected_legal_idx = np.random.choice(len(legal_moves), p=legal_probs) # alternative to epsilon-greedy method used in other algorithms\n",
    "                action_idx = legal_moves[selected_legal_idx]\n",
    "                \n",
    "                # Convert to move and take step\n",
    "                move_str = idx_to_move[action_idx]\n",
    "                move = cp.Move.from_strings(envs[env_idx].state(), \n",
    "                                            move_str[:2], move_str[2:4])\n",
    "                step_result = envs[env_idx].step(move)\n",
    "                \n",
    "                # Store episode data\n",
    "                episodes_data[env_idx]['states'].append(batch_fens[batch_idx])\n",
    "                episodes_data[env_idx]['actions'].append(move_str)\n",
    "                episodes_data[env_idx]['rewards'].append(step_result.reward)\n",
    "                episodes_data[env_idx]['action_indices'].append(action_idx)\n",
    "                \n",
    "                if envs[env_idx].state().is_game_over():\n",
    "                    episodes_data[env_idx]['done'] = True\n",
    "                    if envs[env_idx].state().is_checkmate():\n",
    "                        dtm = 2 * (len(episodes_data[env_idx]['states']) - 0.5)\n",
    "                        agent.dtm_history.append(dtm) # Store DTM for later analysis\n"
   ]
  },
  {
   "cell_type": "code",
   "execution_count": 17,
   "id": "d06d3cb0",
   "metadata": {},
   "outputs": [
    {
     "data": {
      "text/plain": [
       "{'states': ['3R4/8/8/8/1K2k3/8/8/8 w - - 0 1',\n",
       "  '3R4/8/8/2K2k2/8/8/8/8 w - - 0 1',\n",
       "  '3R4/8/2K5/4k3/8/8/8/8 w - - 0 1',\n",
       "  '8/8/2K5/3R4/5k2/8/8/8 w - - 0 1',\n",
       "  '8/2K5/8/3R4/6k1/8/8/8 w - - 0 1',\n",
       "  '8/2K5/8/5k2/8/8/3R4/8 w - - 0 1',\n",
       "  '8/2K5/8/3R4/6k1/8/8/8 w - - 0 1',\n",
       "  '3K4/8/8/3R4/5k2/8/8/8 w - - 0 1',\n",
       "  '3K4/8/8/5k2/8/8/8/3R4 w - - 0 1',\n",
       "  '8/2K5/4k3/8/8/8/8/3R4 w - - 0 1',\n",
       "  '8/2K5/3R4/4k3/8/8/8/8 w - - 0 1',\n",
       "  '8/3K4/3R4/5k2/8/8/8/8 w - - 0 1',\n",
       "  '3K4/8/3R4/8/4k3/8/8/8 w - - 0 1',\n",
       "  '8/3K4/3R4/5k2/8/8/8/8 w - - 0 1',\n",
       "  '8/8/2KR4/4k3/8/8/8/8 w - - 0 1',\n",
       "  '8/8/3R4/2K2k2/8/8/8/8 w - - 0 1',\n",
       "  '8/8/R7/2K1k3/8/8/8/8 w - - 0 1',\n",
       "  'R7/8/4k3/2K5/8/8/8/8 w - - 0 1',\n",
       "  '5R2/8/8/2K1k3/8/8/8/8 w - - 0 1',\n",
       "  '8/8/8/2K5/4k3/5R2/8/8 w - - 0 1'],\n",
       " 'actions': ['b4c5',\n",
       "  'c5c6',\n",
       "  'd8d5',\n",
       "  'c6c7',\n",
       "  'd5d2',\n",
       "  'd2d5',\n",
       "  'c7d8',\n",
       "  'd5d1',\n",
       "  'd8c7',\n",
       "  'd1d6',\n",
       "  'c7d7',\n",
       "  'd7d8',\n",
       "  'd8d7',\n",
       "  'd7c6',\n",
       "  'c6c5',\n",
       "  'd6a6',\n",
       "  'a6a8',\n",
       "  'a8f8',\n",
       "  'f8f3',\n",
       "  'c5b5'],\n",
       " 'rewards': [-2.0,\n",
       "  -2.0,\n",
       "  -2.0,\n",
       "  -2.0,\n",
       "  -2.0,\n",
       "  -2.0,\n",
       "  -2.0,\n",
       "  -2.0,\n",
       "  -2.0,\n",
       "  -2.0,\n",
       "  -2.0,\n",
       "  -2.0,\n",
       "  -2.0,\n",
       "  -2.0,\n",
       "  -2.0,\n",
       "  -2.0,\n",
       "  -2.0,\n",
       "  -2.0,\n",
       "  -2.0,\n",
       "  -50.0],\n",
       " 'action_indices': [1608,\n",
       "  2183,\n",
       "  3752,\n",
       "  2695,\n",
       "  2216,\n",
       "  727,\n",
       "  3208,\n",
       "  2208,\n",
       "  3767,\n",
       "  231,\n",
       "  3200,\n",
       "  3271,\n",
       "  3768,\n",
       "  3255,\n",
       "  2680,\n",
       "  2749,\n",
       "  2575,\n",
       "  3588,\n",
       "  3864,\n",
       "  2175],\n",
       " 'done': True}"
      ]
     },
     "execution_count": 17,
     "metadata": {},
     "output_type": "execute_result"
    }
   ],
   "source": [
    "episodes_data[4]"
   ]
  },
  {
   "cell_type": "code",
   "execution_count": 18,
   "id": "d1b2bc2c",
   "metadata": {},
   "outputs": [],
   "source": [
    "positive_episodes = []\n",
    "for i in range(len(episodes_data)):\n",
    "    if episodes_data[i]['rewards'][-1] == 100:\n",
    "        positive_episodes.append(episodes_data[i])"
   ]
  },
  {
   "cell_type": "code",
   "execution_count": 19,
   "id": "1d62f5b9",
   "metadata": {},
   "outputs": [
    {
     "data": {
      "text/plain": [
       "[]"
      ]
     },
     "execution_count": 19,
     "metadata": {},
     "output_type": "execute_result"
    }
   ],
   "source": [
    "positive_episodes"
   ]
  },
  {
   "cell_type": "markdown",
   "id": "c66343d0",
   "metadata": {},
   "source": [
    "### Train batch"
   ]
  },
  {
   "cell_type": "code",
   "execution_count": 20,
   "id": "d475f66d",
   "metadata": {},
   "outputs": [],
   "source": [
    "all_rewards = [ep['rewards'] for ep in episodes_data]\n",
    "all_returns = agent.calculate_returns(all_rewards)"
   ]
  },
  {
   "cell_type": "code",
   "execution_count": 21,
   "id": "691d9cbf",
   "metadata": {},
   "outputs": [],
   "source": [
    "batch_states = []\n",
    "batch_actions = []\n",
    "batch_returns = []\n",
    "batch_legal_moves = []"
   ]
  },
  {
   "cell_type": "code",
   "execution_count": 22,
   "id": "4b2e3ca8",
   "metadata": {},
   "outputs": [],
   "source": [
    "for ep_idx, episode in enumerate(episodes_data):\n",
    "    for t in range(len(episode['states'])):\n",
    "        batch_states.append(episode['states'][t])\n",
    "        batch_actions.append(episode['actions'][t])\n",
    "        batch_returns.append(all_returns[ep_idx][t])\n",
    "        \n",
    "        # Get legal moves for this state\n",
    "        temp_env = Env.from_fen(episode['states'][t], defender=agent.defender)\n",
    "        legal_moves = get_legal_move_indices(temp_env)\n",
    "        batch_legal_moves.append(legal_moves)"
   ]
  },
  {
   "cell_type": "code",
   "execution_count": 23,
   "id": "ae04d528",
   "metadata": {},
   "outputs": [],
   "source": [
    "state_tensors = torch.stack([\n",
    "    parse_fen_cached(fen, agent.fen_cache) for fen in batch_states\n",
    "]).to(agent.device)"
   ]
  },
  {
   "cell_type": "code",
   "execution_count": 24,
   "id": "21819220",
   "metadata": {},
   "outputs": [],
   "source": [
    "returns_tensor = torch.stack(batch_returns)\n",
    "if len(returns_tensor) > 1:\n",
    "    returns_tensor = (returns_tensor - returns_tensor.mean()) / (returns_tensor.std() + 1e-8)"
   ]
  },
  {
   "cell_type": "code",
   "execution_count": 25,
   "id": "fb45fda4",
   "metadata": {},
   "outputs": [],
   "source": [
    "logits = agent.policy.forward(state_tensors)"
   ]
  },
  {
   "cell_type": "code",
   "execution_count": 26,
   "id": "5dd06a7d",
   "metadata": {},
   "outputs": [
    {
     "data": {
      "text/plain": [
       "tensor([-0.9931, -1.0070,  0.7270,  ..., -0.6535,  0.3199,  0.4888],\n",
       "       device='mps:0', grad_fn=<SelectBackward0>)"
      ]
     },
     "execution_count": 26,
     "metadata": {},
     "output_type": "execute_result"
    }
   ],
   "source": [
    "logits[0]"
   ]
  },
  {
   "cell_type": "code",
   "execution_count": 27,
   "id": "791cb459",
   "metadata": {},
   "outputs": [],
   "source": [
    "log_probs_list = []\n",
    "for i, (action_str, legal_moves) in enumerate(zip(batch_actions, batch_legal_moves)):\n",
    "    action_idx = move_to_idx[action_str]\n",
    "    \n",
    "    # Create mask for legal moves\n",
    "    mask = torch.zeros(4096, device=agent.device)\n",
    "    mask[legal_moves] = 1\n",
    "    \n",
    "    # Apply mask and get log probabilities\n",
    "    masked_logits = logits[i].masked_fill(mask == 0, float('-inf'))\n",
    "    log_probs = torch.log_softmax(masked_logits, dim=-1)\n",
    "    log_probs_list.append(log_probs[action_idx])"
   ]
  },
  {
   "cell_type": "code",
   "execution_count": 28,
   "id": "e23f17a0",
   "metadata": {},
   "outputs": [
    {
     "data": {
      "text/plain": [
       "[tensor(-2.8636, device='mps:0', grad_fn=<SelectBackward0>),\n",
       " tensor(-2.8926, device='mps:0', grad_fn=<SelectBackward0>),\n",
       " tensor(-2.7002, device='mps:0', grad_fn=<SelectBackward0>),\n",
       " tensor(-2.7134, device='mps:0', grad_fn=<SelectBackward0>),\n",
       " tensor(-2.8886, device='mps:0', grad_fn=<SelectBackward0>),\n",
       " tensor(-2.9557, device='mps:0', grad_fn=<SelectBackward0>),\n",
       " tensor(-2.5587, device='mps:0', grad_fn=<SelectBackward0>),\n",
       " tensor(-2.6621, device='mps:0', grad_fn=<SelectBackward0>),\n",
       " tensor(-2.9352, device='mps:0', grad_fn=<SelectBackward0>),\n",
       " tensor(-3.0608, device='mps:0', grad_fn=<SelectBackward0>),\n",
       " tensor(-2.6568, device='mps:0', grad_fn=<SelectBackward0>),\n",
       " tensor(-2.8332, device='mps:0', grad_fn=<SelectBackward0>),\n",
       " tensor(-1.8782, device='mps:0', grad_fn=<SelectBackward0>),\n",
       " tensor(-2.9035, device='mps:0', grad_fn=<SelectBackward0>),\n",
       " tensor(-2.1686, device='mps:0', grad_fn=<SelectBackward0>),\n",
       " tensor(-2.8562, device='mps:0', grad_fn=<SelectBackward0>),\n",
       " tensor(-3.1236, device='mps:0', grad_fn=<SelectBackward0>),\n",
       " tensor(-2.9735, device='mps:0', grad_fn=<SelectBackward0>),\n",
       " tensor(-3.5424, device='mps:0', grad_fn=<SelectBackward0>),\n",
       " tensor(-2.3382, device='mps:0', grad_fn=<SelectBackward0>),\n",
       " tensor(-3.5225, device='mps:0', grad_fn=<SelectBackward0>),\n",
       " tensor(-3.4481, device='mps:0', grad_fn=<SelectBackward0>),\n",
       " tensor(-2.9691, device='mps:0', grad_fn=<SelectBackward0>),\n",
       " tensor(-2.8386, device='mps:0', grad_fn=<SelectBackward0>),\n",
       " tensor(-2.7910, device='mps:0', grad_fn=<SelectBackward0>),\n",
       " tensor(-2.3388, device='mps:0', grad_fn=<SelectBackward0>),\n",
       " tensor(-2.8461, device='mps:0', grad_fn=<SelectBackward0>),\n",
       " tensor(-2.9405, device='mps:0', grad_fn=<SelectBackward0>),\n",
       " tensor(-2.1683, device='mps:0', grad_fn=<SelectBackward0>),\n",
       " tensor(-2.9365, device='mps:0', grad_fn=<SelectBackward0>),\n",
       " tensor(-2.3268, device='mps:0', grad_fn=<SelectBackward0>),\n",
       " tensor(-2.8368, device='mps:0', grad_fn=<SelectBackward0>),\n",
       " tensor(-2.2689, device='mps:0', grad_fn=<SelectBackward0>),\n",
       " tensor(-2.4369, device='mps:0', grad_fn=<SelectBackward0>),\n",
       " tensor(-2.6360, device='mps:0', grad_fn=<SelectBackward0>),\n",
       " tensor(-2.4496, device='mps:0', grad_fn=<SelectBackward0>),\n",
       " tensor(-3.0286, device='mps:0', grad_fn=<SelectBackward0>),\n",
       " tensor(-3.5253, device='mps:0', grad_fn=<SelectBackward0>),\n",
       " tensor(-3.1708, device='mps:0', grad_fn=<SelectBackward0>),\n",
       " tensor(-2.8276, device='mps:0', grad_fn=<SelectBackward0>),\n",
       " tensor(-2.9481, device='mps:0', grad_fn=<SelectBackward0>),\n",
       " tensor(-2.4495, device='mps:0', grad_fn=<SelectBackward0>),\n",
       " tensor(-2.6321, device='mps:0', grad_fn=<SelectBackward0>),\n",
       " tensor(-3.2487, device='mps:0', grad_fn=<SelectBackward0>),\n",
       " tensor(-2.2810, device='mps:0', grad_fn=<SelectBackward0>),\n",
       " tensor(-2.5464, device='mps:0', grad_fn=<SelectBackward0>),\n",
       " tensor(-3.1247, device='mps:0', grad_fn=<SelectBackward0>),\n",
       " tensor(-2.6623, device='mps:0', grad_fn=<SelectBackward0>),\n",
       " tensor(-4.2687, device='mps:0', grad_fn=<SelectBackward0>),\n",
       " tensor(-2.3889, device='mps:0', grad_fn=<SelectBackward0>),\n",
       " tensor(-2.7827, device='mps:0', grad_fn=<SelectBackward0>),\n",
       " tensor(-2.3212, device='mps:0', grad_fn=<SelectBackward0>),\n",
       " tensor(-3.3429, device='mps:0', grad_fn=<SelectBackward0>),\n",
       " tensor(-2.3419, device='mps:0', grad_fn=<SelectBackward0>),\n",
       " tensor(-2.1859, device='mps:0', grad_fn=<SelectBackward0>),\n",
       " tensor(-2.8733, device='mps:0', grad_fn=<SelectBackward0>),\n",
       " tensor(-2.1639, device='mps:0', grad_fn=<SelectBackward0>),\n",
       " tensor(-3.3787, device='mps:0', grad_fn=<SelectBackward0>),\n",
       " tensor(-3.1565, device='mps:0', grad_fn=<SelectBackward0>),\n",
       " tensor(-2.9305, device='mps:0', grad_fn=<SelectBackward0>),\n",
       " tensor(-2.8204, device='mps:0', grad_fn=<SelectBackward0>),\n",
       " tensor(-2.5734, device='mps:0', grad_fn=<SelectBackward0>),\n",
       " tensor(-2.7784, device='mps:0', grad_fn=<SelectBackward0>),\n",
       " tensor(-2.5832, device='mps:0', grad_fn=<SelectBackward0>),\n",
       " tensor(-3.2512, device='mps:0', grad_fn=<SelectBackward0>),\n",
       " tensor(-3.0886, device='mps:0', grad_fn=<SelectBackward0>),\n",
       " tensor(-2.2833, device='mps:0', grad_fn=<SelectBackward0>),\n",
       " tensor(-2.4984, device='mps:0', grad_fn=<SelectBackward0>),\n",
       " tensor(-3.5561, device='mps:0', grad_fn=<SelectBackward0>),\n",
       " tensor(-2.9300, device='mps:0', grad_fn=<SelectBackward0>),\n",
       " tensor(-2.8165, device='mps:0', grad_fn=<SelectBackward0>),\n",
       " tensor(-3.1273, device='mps:0', grad_fn=<SelectBackward0>),\n",
       " tensor(-2.0330, device='mps:0', grad_fn=<SelectBackward0>),\n",
       " tensor(-2.7287, device='mps:0', grad_fn=<SelectBackward0>),\n",
       " tensor(-3.1647, device='mps:0', grad_fn=<SelectBackward0>),\n",
       " tensor(-2.5040, device='mps:0', grad_fn=<SelectBackward0>),\n",
       " tensor(-3.1469, device='mps:0', grad_fn=<SelectBackward0>),\n",
       " tensor(-2.3816, device='mps:0', grad_fn=<SelectBackward0>),\n",
       " tensor(-3.3295, device='mps:0', grad_fn=<SelectBackward0>),\n",
       " tensor(-3.3563, device='mps:0', grad_fn=<SelectBackward0>),\n",
       " tensor(-2.6808, device='mps:0', grad_fn=<SelectBackward0>),\n",
       " tensor(-2.2481, device='mps:0', grad_fn=<SelectBackward0>),\n",
       " tensor(-3.9806, device='mps:0', grad_fn=<SelectBackward0>),\n",
       " tensor(-2.6226, device='mps:0', grad_fn=<SelectBackward0>),\n",
       " tensor(-2.9152, device='mps:0', grad_fn=<SelectBackward0>),\n",
       " tensor(-2.7306, device='mps:0', grad_fn=<SelectBackward0>),\n",
       " tensor(-3.0188, device='mps:0', grad_fn=<SelectBackward0>),\n",
       " tensor(-3.2906, device='mps:0', grad_fn=<SelectBackward0>),\n",
       " tensor(-2.7764, device='mps:0', grad_fn=<SelectBackward0>),\n",
       " tensor(-3.0870, device='mps:0', grad_fn=<SelectBackward0>),\n",
       " tensor(-2.4947, device='mps:0', grad_fn=<SelectBackward0>),\n",
       " tensor(-3.1073, device='mps:0', grad_fn=<SelectBackward0>),\n",
       " tensor(-2.8462, device='mps:0', grad_fn=<SelectBackward0>),\n",
       " tensor(-2.5484, device='mps:0', grad_fn=<SelectBackward0>),\n",
       " tensor(-3.0830, device='mps:0', grad_fn=<SelectBackward0>),\n",
       " tensor(-2.0210, device='mps:0', grad_fn=<SelectBackward0>),\n",
       " tensor(-2.2308, device='mps:0', grad_fn=<SelectBackward0>),\n",
       " tensor(-2.3251, device='mps:0', grad_fn=<SelectBackward0>),\n",
       " tensor(-3.0894, device='mps:0', grad_fn=<SelectBackward0>),\n",
       " tensor(-3.0354, device='mps:0', grad_fn=<SelectBackward0>),\n",
       " tensor(-2.3443, device='mps:0', grad_fn=<SelectBackward0>),\n",
       " tensor(-3.2531, device='mps:0', grad_fn=<SelectBackward0>),\n",
       " tensor(-3.2889, device='mps:0', grad_fn=<SelectBackward0>),\n",
       " tensor(-3.0374, device='mps:0', grad_fn=<SelectBackward0>),\n",
       " tensor(-3.7553, device='mps:0', grad_fn=<SelectBackward0>),\n",
       " tensor(-3.0327, device='mps:0', grad_fn=<SelectBackward0>),\n",
       " tensor(-2.9360, device='mps:0', grad_fn=<SelectBackward0>),\n",
       " tensor(-2.7551, device='mps:0', grad_fn=<SelectBackward0>),\n",
       " tensor(-2.9261, device='mps:0', grad_fn=<SelectBackward0>),\n",
       " tensor(-3.5577, device='mps:0', grad_fn=<SelectBackward0>),\n",
       " tensor(-2.7840, device='mps:0', grad_fn=<SelectBackward0>),\n",
       " tensor(-3.6018, device='mps:0', grad_fn=<SelectBackward0>),\n",
       " tensor(-2.4759, device='mps:0', grad_fn=<SelectBackward0>),\n",
       " tensor(-2.3731, device='mps:0', grad_fn=<SelectBackward0>),\n",
       " tensor(-2.1281, device='mps:0', grad_fn=<SelectBackward0>),\n",
       " tensor(-3.5410, device='mps:0', grad_fn=<SelectBackward0>),\n",
       " tensor(-3.0107, device='mps:0', grad_fn=<SelectBackward0>),\n",
       " tensor(-3.6741, device='mps:0', grad_fn=<SelectBackward0>),\n",
       " tensor(-3.4043, device='mps:0', grad_fn=<SelectBackward0>),\n",
       " tensor(-3.4296, device='mps:0', grad_fn=<SelectBackward0>),\n",
       " tensor(-3.6581, device='mps:0', grad_fn=<SelectBackward0>),\n",
       " tensor(-3.2116, device='mps:0', grad_fn=<SelectBackward0>),\n",
       " tensor(-3.2355, device='mps:0', grad_fn=<SelectBackward0>),\n",
       " tensor(-2.4072, device='mps:0', grad_fn=<SelectBackward0>),\n",
       " tensor(-2.8581, device='mps:0', grad_fn=<SelectBackward0>),\n",
       " tensor(-2.4398, device='mps:0', grad_fn=<SelectBackward0>),\n",
       " tensor(-3.0280, device='mps:0', grad_fn=<SelectBackward0>),\n",
       " tensor(-2.9209, device='mps:0', grad_fn=<SelectBackward0>),\n",
       " tensor(-2.6744, device='mps:0', grad_fn=<SelectBackward0>),\n",
       " tensor(-2.4800, device='mps:0', grad_fn=<SelectBackward0>),\n",
       " tensor(-3.4686, device='mps:0', grad_fn=<SelectBackward0>),\n",
       " tensor(-2.7842, device='mps:0', grad_fn=<SelectBackward0>),\n",
       " tensor(-2.7697, device='mps:0', grad_fn=<SelectBackward0>),\n",
       " tensor(-3.5373, device='mps:0', grad_fn=<SelectBackward0>),\n",
       " tensor(-2.3336, device='mps:0', grad_fn=<SelectBackward0>),\n",
       " tensor(-3.4940, device='mps:0', grad_fn=<SelectBackward0>),\n",
       " tensor(-1.9535, device='mps:0', grad_fn=<SelectBackward0>),\n",
       " tensor(-2.7523, device='mps:0', grad_fn=<SelectBackward0>),\n",
       " tensor(-2.7558, device='mps:0', grad_fn=<SelectBackward0>),\n",
       " tensor(-3.1738, device='mps:0', grad_fn=<SelectBackward0>),\n",
       " tensor(-2.1119, device='mps:0', grad_fn=<SelectBackward0>),\n",
       " tensor(-2.2592, device='mps:0', grad_fn=<SelectBackward0>),\n",
       " tensor(-2.4268, device='mps:0', grad_fn=<SelectBackward0>),\n",
       " tensor(-1.9693, device='mps:0', grad_fn=<SelectBackward0>),\n",
       " tensor(-2.4213, device='mps:0', grad_fn=<SelectBackward0>),\n",
       " tensor(-2.9549, device='mps:0', grad_fn=<SelectBackward0>),\n",
       " tensor(-2.0978, device='mps:0', grad_fn=<SelectBackward0>),\n",
       " tensor(-3.2461, device='mps:0', grad_fn=<SelectBackward0>),\n",
       " tensor(-2.6170, device='mps:0', grad_fn=<SelectBackward0>),\n",
       " tensor(-2.5961, device='mps:0', grad_fn=<SelectBackward0>),\n",
       " tensor(-2.1820, device='mps:0', grad_fn=<SelectBackward0>),\n",
       " tensor(-2.8683, device='mps:0', grad_fn=<SelectBackward0>),\n",
       " tensor(-2.7663, device='mps:0', grad_fn=<SelectBackward0>),\n",
       " tensor(-1.9102, device='mps:0', grad_fn=<SelectBackward0>),\n",
       " tensor(-2.9148, device='mps:0', grad_fn=<SelectBackward0>),\n",
       " tensor(-2.6992, device='mps:0', grad_fn=<SelectBackward0>),\n",
       " tensor(-3.0539, device='mps:0', grad_fn=<SelectBackward0>),\n",
       " tensor(-2.9364, device='mps:0', grad_fn=<SelectBackward0>),\n",
       " tensor(-2.9620, device='mps:0', grad_fn=<SelectBackward0>),\n",
       " tensor(-3.3056, device='mps:0', grad_fn=<SelectBackward0>),\n",
       " tensor(-2.7939, device='mps:0', grad_fn=<SelectBackward0>),\n",
       " tensor(-2.6250, device='mps:0', grad_fn=<SelectBackward0>),\n",
       " tensor(-2.3462, device='mps:0', grad_fn=<SelectBackward0>),\n",
       " tensor(-2.7063, device='mps:0', grad_fn=<SelectBackward0>),\n",
       " tensor(-2.5577, device='mps:0', grad_fn=<SelectBackward0>),\n",
       " tensor(-3.4318, device='mps:0', grad_fn=<SelectBackward0>),\n",
       " tensor(-3.4829, device='mps:0', grad_fn=<SelectBackward0>),\n",
       " tensor(-2.9945, device='mps:0', grad_fn=<SelectBackward0>),\n",
       " tensor(-2.5495, device='mps:0', grad_fn=<SelectBackward0>),\n",
       " tensor(-2.9792, device='mps:0', grad_fn=<SelectBackward0>),\n",
       " tensor(-2.3918, device='mps:0', grad_fn=<SelectBackward0>),\n",
       " tensor(-3.1082, device='mps:0', grad_fn=<SelectBackward0>),\n",
       " tensor(-3.0769, device='mps:0', grad_fn=<SelectBackward0>),\n",
       " tensor(-2.7413, device='mps:0', grad_fn=<SelectBackward0>),\n",
       " tensor(-3.3160, device='mps:0', grad_fn=<SelectBackward0>),\n",
       " tensor(-2.6710, device='mps:0', grad_fn=<SelectBackward0>),\n",
       " tensor(-3.1522, device='mps:0', grad_fn=<SelectBackward0>),\n",
       " tensor(-3.1154, device='mps:0', grad_fn=<SelectBackward0>),\n",
       " tensor(-3.2012, device='mps:0', grad_fn=<SelectBackward0>),\n",
       " tensor(-2.6002, device='mps:0', grad_fn=<SelectBackward0>),\n",
       " tensor(-2.7977, device='mps:0', grad_fn=<SelectBackward0>),\n",
       " tensor(-3.4147, device='mps:0', grad_fn=<SelectBackward0>),\n",
       " tensor(-3.2521, device='mps:0', grad_fn=<SelectBackward0>),\n",
       " tensor(-3.3904, device='mps:0', grad_fn=<SelectBackward0>),\n",
       " tensor(-3.0719, device='mps:0', grad_fn=<SelectBackward0>),\n",
       " tensor(-2.2702, device='mps:0', grad_fn=<SelectBackward0>),\n",
       " tensor(-2.6832, device='mps:0', grad_fn=<SelectBackward0>),\n",
       " tensor(-3.0416, device='mps:0', grad_fn=<SelectBackward0>),\n",
       " tensor(-2.6177, device='mps:0', grad_fn=<SelectBackward0>),\n",
       " tensor(-2.5257, device='mps:0', grad_fn=<SelectBackward0>),\n",
       " tensor(-2.6134, device='mps:0', grad_fn=<SelectBackward0>),\n",
       " tensor(-2.5571, device='mps:0', grad_fn=<SelectBackward0>),\n",
       " tensor(-2.4497, device='mps:0', grad_fn=<SelectBackward0>),\n",
       " tensor(-2.8048, device='mps:0', grad_fn=<SelectBackward0>),\n",
       " tensor(-2.1763, device='mps:0', grad_fn=<SelectBackward0>),\n",
       " tensor(-3.1025, device='mps:0', grad_fn=<SelectBackward0>),\n",
       " tensor(-2.4410, device='mps:0', grad_fn=<SelectBackward0>),\n",
       " tensor(-2.6464, device='mps:0', grad_fn=<SelectBackward0>),\n",
       " tensor(-3.2188, device='mps:0', grad_fn=<SelectBackward0>),\n",
       " tensor(-3.0335, device='mps:0', grad_fn=<SelectBackward0>),\n",
       " tensor(-2.5216, device='mps:0', grad_fn=<SelectBackward0>),\n",
       " tensor(-2.5431, device='mps:0', grad_fn=<SelectBackward0>),\n",
       " tensor(-3.5190, device='mps:0', grad_fn=<SelectBackward0>),\n",
       " tensor(-2.6838, device='mps:0', grad_fn=<SelectBackward0>),\n",
       " tensor(-2.7929, device='mps:0', grad_fn=<SelectBackward0>),\n",
       " tensor(-2.6758, device='mps:0', grad_fn=<SelectBackward0>),\n",
       " tensor(-1.5124, device='mps:0', grad_fn=<SelectBackward0>),\n",
       " tensor(-3.5805, device='mps:0', grad_fn=<SelectBackward0>),\n",
       " tensor(-2.1678, device='mps:0', grad_fn=<SelectBackward0>),\n",
       " tensor(-2.5814, device='mps:0', grad_fn=<SelectBackward0>),\n",
       " tensor(-3.2152, device='mps:0', grad_fn=<SelectBackward0>),\n",
       " tensor(-2.4029, device='mps:0', grad_fn=<SelectBackward0>),\n",
       " tensor(-3.1393, device='mps:0', grad_fn=<SelectBackward0>),\n",
       " tensor(-2.6276, device='mps:0', grad_fn=<SelectBackward0>),\n",
       " tensor(-3.3178, device='mps:0', grad_fn=<SelectBackward0>),\n",
       " tensor(-2.6239, device='mps:0', grad_fn=<SelectBackward0>),\n",
       " tensor(-3.3592, device='mps:0', grad_fn=<SelectBackward0>),\n",
       " tensor(-2.4846, device='mps:0', grad_fn=<SelectBackward0>),\n",
       " tensor(-2.5443, device='mps:0', grad_fn=<SelectBackward0>),\n",
       " tensor(-1.6987, device='mps:0', grad_fn=<SelectBackward0>),\n",
       " tensor(-3.2873, device='mps:0', grad_fn=<SelectBackward0>),\n",
       " tensor(-2.6179, device='mps:0', grad_fn=<SelectBackward0>),\n",
       " tensor(-2.6262, device='mps:0', grad_fn=<SelectBackward0>),\n",
       " tensor(-2.8910, device='mps:0', grad_fn=<SelectBackward0>),\n",
       " tensor(-3.0252, device='mps:0', grad_fn=<SelectBackward0>),\n",
       " tensor(-3.5253, device='mps:0', grad_fn=<SelectBackward0>),\n",
       " tensor(-2.8643, device='mps:0', grad_fn=<SelectBackward0>),\n",
       " tensor(-2.5476, device='mps:0', grad_fn=<SelectBackward0>),\n",
       " tensor(-3.4301, device='mps:0', grad_fn=<SelectBackward0>),\n",
       " tensor(-2.8846, device='mps:0', grad_fn=<SelectBackward0>),\n",
       " tensor(-3.4330, device='mps:0', grad_fn=<SelectBackward0>),\n",
       " tensor(-2.9349, device='mps:0', grad_fn=<SelectBackward0>),\n",
       " tensor(-2.8993, device='mps:0', grad_fn=<SelectBackward0>),\n",
       " tensor(-2.5840, device='mps:0', grad_fn=<SelectBackward0>),\n",
       " tensor(-3.1692, device='mps:0', grad_fn=<SelectBackward0>),\n",
       " tensor(-2.9619, device='mps:0', grad_fn=<SelectBackward0>),\n",
       " tensor(-2.6073, device='mps:0', grad_fn=<SelectBackward0>),\n",
       " tensor(-1.8503, device='mps:0', grad_fn=<SelectBackward0>),\n",
       " tensor(-2.9916, device='mps:0', grad_fn=<SelectBackward0>),\n",
       " tensor(-2.9077, device='mps:0', grad_fn=<SelectBackward0>),\n",
       " tensor(-3.0089, device='mps:0', grad_fn=<SelectBackward0>),\n",
       " tensor(-2.5402, device='mps:0', grad_fn=<SelectBackward0>),\n",
       " tensor(-3.0632, device='mps:0', grad_fn=<SelectBackward0>),\n",
       " tensor(-2.9101, device='mps:0', grad_fn=<SelectBackward0>),\n",
       " tensor(-3.5058, device='mps:0', grad_fn=<SelectBackward0>),\n",
       " tensor(-3.0919, device='mps:0', grad_fn=<SelectBackward0>),\n",
       " tensor(-3.8513, device='mps:0', grad_fn=<SelectBackward0>),\n",
       " tensor(-2.4658, device='mps:0', grad_fn=<SelectBackward0>),\n",
       " tensor(-2.9011, device='mps:0', grad_fn=<SelectBackward0>),\n",
       " tensor(-2.8608, device='mps:0', grad_fn=<SelectBackward0>),\n",
       " tensor(-3.5962, device='mps:0', grad_fn=<SelectBackward0>),\n",
       " tensor(-2.4616, device='mps:0', grad_fn=<SelectBackward0>),\n",
       " tensor(-3.2800, device='mps:0', grad_fn=<SelectBackward0>),\n",
       " tensor(-3.6708, device='mps:0', grad_fn=<SelectBackward0>),\n",
       " tensor(-2.3163, device='mps:0', grad_fn=<SelectBackward0>),\n",
       " tensor(-3.0739, device='mps:0', grad_fn=<SelectBackward0>),\n",
       " tensor(-2.4403, device='mps:0', grad_fn=<SelectBackward0>),\n",
       " tensor(-3.2119, device='mps:0', grad_fn=<SelectBackward0>),\n",
       " tensor(-3.2930, device='mps:0', grad_fn=<SelectBackward0>),\n",
       " tensor(-2.7352, device='mps:0', grad_fn=<SelectBackward0>),\n",
       " tensor(-3.8108, device='mps:0', grad_fn=<SelectBackward0>),\n",
       " tensor(-2.7666, device='mps:0', grad_fn=<SelectBackward0>),\n",
       " tensor(-3.5148, device='mps:0', grad_fn=<SelectBackward0>),\n",
       " tensor(-2.9487, device='mps:0', grad_fn=<SelectBackward0>),\n",
       " tensor(-3.3445, device='mps:0', grad_fn=<SelectBackward0>),\n",
       " tensor(-2.8732, device='mps:0', grad_fn=<SelectBackward0>),\n",
       " tensor(-3.8040, device='mps:0', grad_fn=<SelectBackward0>),\n",
       " tensor(-2.8597, device='mps:0', grad_fn=<SelectBackward0>),\n",
       " tensor(-2.9850, device='mps:0', grad_fn=<SelectBackward0>),\n",
       " tensor(-2.2228, device='mps:0', grad_fn=<SelectBackward0>),\n",
       " tensor(-2.9701, device='mps:0', grad_fn=<SelectBackward0>),\n",
       " tensor(-2.9189, device='mps:0', grad_fn=<SelectBackward0>),\n",
       " tensor(-2.7474, device='mps:0', grad_fn=<SelectBackward0>),\n",
       " tensor(-3.1475, device='mps:0', grad_fn=<SelectBackward0>),\n",
       " tensor(-2.6863, device='mps:0', grad_fn=<SelectBackward0>),\n",
       " tensor(-3.2680, device='mps:0', grad_fn=<SelectBackward0>),\n",
       " tensor(-2.3080, device='mps:0', grad_fn=<SelectBackward0>),\n",
       " tensor(-3.0062, device='mps:0', grad_fn=<SelectBackward0>),\n",
       " tensor(-2.2847, device='mps:0', grad_fn=<SelectBackward0>),\n",
       " tensor(-2.6684, device='mps:0', grad_fn=<SelectBackward0>),\n",
       " tensor(-2.7948, device='mps:0', grad_fn=<SelectBackward0>),\n",
       " tensor(-2.4053, device='mps:0', grad_fn=<SelectBackward0>),\n",
       " tensor(-2.6629, device='mps:0', grad_fn=<SelectBackward0>),\n",
       " tensor(-2.9462, device='mps:0', grad_fn=<SelectBackward0>),\n",
       " tensor(-2.9792, device='mps:0', grad_fn=<SelectBackward0>),\n",
       " tensor(-3.3867, device='mps:0', grad_fn=<SelectBackward0>),\n",
       " tensor(-2.6905, device='mps:0', grad_fn=<SelectBackward0>),\n",
       " tensor(-2.9082, device='mps:0', grad_fn=<SelectBackward0>),\n",
       " tensor(-3.0945, device='mps:0', grad_fn=<SelectBackward0>),\n",
       " tensor(-3.6906, device='mps:0', grad_fn=<SelectBackward0>),\n",
       " tensor(-3.6867, device='mps:0', grad_fn=<SelectBackward0>),\n",
       " tensor(-2.7964, device='mps:0', grad_fn=<SelectBackward0>),\n",
       " tensor(-2.8877, device='mps:0', grad_fn=<SelectBackward0>),\n",
       " tensor(-2.4738, device='mps:0', grad_fn=<SelectBackward0>),\n",
       " tensor(-2.9119, device='mps:0', grad_fn=<SelectBackward0>),\n",
       " tensor(-3.2807, device='mps:0', grad_fn=<SelectBackward0>),\n",
       " tensor(-2.9334, device='mps:0', grad_fn=<SelectBackward0>),\n",
       " tensor(-3.5968, device='mps:0', grad_fn=<SelectBackward0>),\n",
       " tensor(-3.0300, device='mps:0', grad_fn=<SelectBackward0>),\n",
       " tensor(-3.2907, device='mps:0', grad_fn=<SelectBackward0>),\n",
       " tensor(-2.7456, device='mps:0', grad_fn=<SelectBackward0>),\n",
       " tensor(-2.8342, device='mps:0', grad_fn=<SelectBackward0>),\n",
       " tensor(-3.0121, device='mps:0', grad_fn=<SelectBackward0>),\n",
       " tensor(-2.7749, device='mps:0', grad_fn=<SelectBackward0>),\n",
       " tensor(-2.9706, device='mps:0', grad_fn=<SelectBackward0>),\n",
       " tensor(-3.2275, device='mps:0', grad_fn=<SelectBackward0>),\n",
       " tensor(-2.9261, device='mps:0', grad_fn=<SelectBackward0>),\n",
       " tensor(-2.5918, device='mps:0', grad_fn=<SelectBackward0>),\n",
       " tensor(-3.9239, device='mps:0', grad_fn=<SelectBackward0>),\n",
       " tensor(-3.6346, device='mps:0', grad_fn=<SelectBackward0>),\n",
       " tensor(-2.8559, device='mps:0', grad_fn=<SelectBackward0>),\n",
       " tensor(-2.6279, device='mps:0', grad_fn=<SelectBackward0>),\n",
       " tensor(-3.1921, device='mps:0', grad_fn=<SelectBackward0>),\n",
       " tensor(-3.2584, device='mps:0', grad_fn=<SelectBackward0>),\n",
       " tensor(-2.7183, device='mps:0', grad_fn=<SelectBackward0>),\n",
       " tensor(-2.6137, device='mps:0', grad_fn=<SelectBackward0>),\n",
       " tensor(-2.6489, device='mps:0', grad_fn=<SelectBackward0>),\n",
       " tensor(-3.1883, device='mps:0', grad_fn=<SelectBackward0>),\n",
       " tensor(-3.4114, device='mps:0', grad_fn=<SelectBackward0>),\n",
       " tensor(-3.0717, device='mps:0', grad_fn=<SelectBackward0>),\n",
       " tensor(-3.2060, device='mps:0', grad_fn=<SelectBackward0>),\n",
       " tensor(-2.8717, device='mps:0', grad_fn=<SelectBackward0>),\n",
       " tensor(-2.8141, device='mps:0', grad_fn=<SelectBackward0>),\n",
       " tensor(-2.7850, device='mps:0', grad_fn=<SelectBackward0>),\n",
       " tensor(-2.9813, device='mps:0', grad_fn=<SelectBackward0>),\n",
       " tensor(-4.1827, device='mps:0', grad_fn=<SelectBackward0>),\n",
       " tensor(-3.1233, device='mps:0', grad_fn=<SelectBackward0>),\n",
       " tensor(-2.5076, device='mps:0', grad_fn=<SelectBackward0>),\n",
       " tensor(-2.0204, device='mps:0', grad_fn=<SelectBackward0>),\n",
       " tensor(-2.7278, device='mps:0', grad_fn=<SelectBackward0>),\n",
       " tensor(-3.0853, device='mps:0', grad_fn=<SelectBackward0>),\n",
       " tensor(-3.2302, device='mps:0', grad_fn=<SelectBackward0>),\n",
       " tensor(-3.2218, device='mps:0', grad_fn=<SelectBackward0>),\n",
       " tensor(-3.5096, device='mps:0', grad_fn=<SelectBackward0>),\n",
       " tensor(-3.3737, device='mps:0', grad_fn=<SelectBackward0>),\n",
       " tensor(-3.0296, device='mps:0', grad_fn=<SelectBackward0>),\n",
       " tensor(-2.7680, device='mps:0', grad_fn=<SelectBackward0>),\n",
       " tensor(-3.7649, device='mps:0', grad_fn=<SelectBackward0>),\n",
       " tensor(-3.0637, device='mps:0', grad_fn=<SelectBackward0>),\n",
       " tensor(-2.5222, device='mps:0', grad_fn=<SelectBackward0>),\n",
       " tensor(-3.0620, device='mps:0', grad_fn=<SelectBackward0>),\n",
       " tensor(-2.4730, device='mps:0', grad_fn=<SelectBackward0>),\n",
       " tensor(-1.9720, device='mps:0', grad_fn=<SelectBackward0>),\n",
       " tensor(-3.4489, device='mps:0', grad_fn=<SelectBackward0>),\n",
       " tensor(-2.8075, device='mps:0', grad_fn=<SelectBackward0>),\n",
       " tensor(-2.9097, device='mps:0', grad_fn=<SelectBackward0>),\n",
       " tensor(-3.1471, device='mps:0', grad_fn=<SelectBackward0>),\n",
       " tensor(-3.1711, device='mps:0', grad_fn=<SelectBackward0>),\n",
       " tensor(-2.6434, device='mps:0', grad_fn=<SelectBackward0>),\n",
       " tensor(-2.9860, device='mps:0', grad_fn=<SelectBackward0>),\n",
       " tensor(-2.2592, device='mps:0', grad_fn=<SelectBackward0>),\n",
       " tensor(-2.5517, device='mps:0', grad_fn=<SelectBackward0>),\n",
       " tensor(-2.7454, device='mps:0', grad_fn=<SelectBackward0>),\n",
       " tensor(-2.3866, device='mps:0', grad_fn=<SelectBackward0>),\n",
       " tensor(-3.8940, device='mps:0', grad_fn=<SelectBackward0>),\n",
       " tensor(-3.8442, device='mps:0', grad_fn=<SelectBackward0>),\n",
       " tensor(-2.7286, device='mps:0', grad_fn=<SelectBackward0>),\n",
       " tensor(-2.9275, device='mps:0', grad_fn=<SelectBackward0>),\n",
       " tensor(-2.8740, device='mps:0', grad_fn=<SelectBackward0>),\n",
       " tensor(-3.0060, device='mps:0', grad_fn=<SelectBackward0>),\n",
       " tensor(-3.5947, device='mps:0', grad_fn=<SelectBackward0>),\n",
       " tensor(-3.0087, device='mps:0', grad_fn=<SelectBackward0>),\n",
       " tensor(-2.2894, device='mps:0', grad_fn=<SelectBackward0>),\n",
       " tensor(-2.4556, device='mps:0', grad_fn=<SelectBackward0>),\n",
       " tensor(-3.4116, device='mps:0', grad_fn=<SelectBackward0>),\n",
       " tensor(-3.6061, device='mps:0', grad_fn=<SelectBackward0>),\n",
       " tensor(-2.5207, device='mps:0', grad_fn=<SelectBackward0>),\n",
       " tensor(-2.8093, device='mps:0', grad_fn=<SelectBackward0>),\n",
       " tensor(-2.2349, device='mps:0', grad_fn=<SelectBackward0>),\n",
       " tensor(-2.4576, device='mps:0', grad_fn=<SelectBackward0>),\n",
       " tensor(-2.8433, device='mps:0', grad_fn=<SelectBackward0>),\n",
       " tensor(-2.7077, device='mps:0', grad_fn=<SelectBackward0>),\n",
       " tensor(-2.7604, device='mps:0', grad_fn=<SelectBackward0>),\n",
       " tensor(-3.0293, device='mps:0', grad_fn=<SelectBackward0>)]"
      ]
     },
     "execution_count": 28,
     "metadata": {},
     "output_type": "execute_result"
    }
   ],
   "source": [
    "log_probs_list"
   ]
  },
  {
   "cell_type": "code",
   "execution_count": 29,
   "id": "f71d88af",
   "metadata": {},
   "outputs": [],
   "source": [
    "log_probs_tensor = torch.stack(log_probs_list)"
   ]
  },
  {
   "cell_type": "code",
   "execution_count": 30,
   "id": "2bef6364",
   "metadata": {},
   "outputs": [],
   "source": [
    "loss = -torch.mean(log_probs_tensor * returns_tensor)"
   ]
  },
  {
   "cell_type": "code",
   "execution_count": 31,
   "id": "2e543fec",
   "metadata": {},
   "outputs": [
    {
     "data": {
      "text/plain": [
       "tensor(-0.0213, device='mps:0', grad_fn=<NegBackward0>)"
      ]
     },
     "execution_count": 31,
     "metadata": {},
     "output_type": "execute_result"
    }
   ],
   "source": [
    "loss"
   ]
  },
  {
   "cell_type": "code",
   "execution_count": 32,
   "id": "0ddd495d",
   "metadata": {},
   "outputs": [],
   "source": [
    "agent.optimizer.zero_grad()\n",
    "loss.backward()\n",
    "torch.nn.utils.clip_grad_norm_(agent.policy.parameters(), max_norm=1.0)\n",
    "agent.optimizer.step()"
   ]
  },
  {
   "cell_type": "code",
   "execution_count": 36,
   "id": "0b967360",
   "metadata": {},
   "outputs": [],
   "source": [
    "dtms = []\n",
    "for episode in episodes_data:\n",
    "    if any('checkmate' in str(r) for r in episode['rewards'] if r > 0):\n",
    "        dtm = 2 * (len(episode['states']) - 0.5)\n",
    "        dtms.append(dtm)"
   ]
  },
  {
   "cell_type": "code",
   "execution_count": null,
   "id": "7d14c41c",
   "metadata": {},
   "outputs": [],
   "source": []
  }
 ],
 "metadata": {
  "kernelspec": {
   "display_name": "Python 3",
   "language": "python",
   "name": "python3"
  },
  "language_info": {
   "codemirror_mode": {
    "name": "ipython",
    "version": 3
   },
   "file_extension": ".py",
   "mimetype": "text/x-python",
   "name": "python",
   "nbconvert_exporter": "python",
   "pygments_lexer": "ipython3",
   "version": "3.13.4"
  }
 },
 "nbformat": 4,
 "nbformat_minor": 5
}
