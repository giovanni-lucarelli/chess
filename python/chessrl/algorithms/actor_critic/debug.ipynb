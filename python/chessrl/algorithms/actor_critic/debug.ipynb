{
 "cells": [
  {
   "cell_type": "code",
   "execution_count": 2,
   "id": "7228db5a",
   "metadata": {},
   "outputs": [
    {
     "name": "stderr",
     "output_type": "stream",
     "text": [
      "2025-08-29 19:29:59,416 - INFO - Loading config file...\n",
      "2025-08-29 19:29:59,422 - INFO - Loading config file...\n"
     ]
    }
   ],
   "source": [
    "#!/usr/bin/env python3\n",
    "\n",
    "# system\n",
    "import sys \n",
    "sys.path.insert(0, '../../../')\n",
    "\n",
    "# utils\n",
    "import numpy as np\n",
    "import torch  \n",
    "import logging\n",
    "from tqdm import tqdm \n",
    "from chessrl.utils.load_config import load_config\n",
    "from chessrl.utils.fen_parsing import parse_fen_cached\n",
    "from typing import List, Tuple, Dict\n",
    "\n",
    "\n",
    "import os\n",
    "config_path = os.path.join('./', 'config.json')\n",
    "config = load_config(config_path)\n",
    "logging.basicConfig(level=config['log_level'], format = '%(asctime)s - %(levelname)s - %(message)s')\n",
    "logger = logging.getLogger(__name__)\n",
    "\n",
    "# chess\n",
    "from chessrl import Env, SyzygyDefender\n",
    "from chessrl import chess_py as cp\n",
    "from chessrl.algorithms.actor_critic.policy import Policy\n",
    "from chessrl.algorithms.actor_critic.ac import ActorCritic\n",
    "from chessrl.utils.move_idx import build_move_mappings\n",
    "\n",
    "move_to_idx, idx_to_move = build_move_mappings()"
   ]
  },
  {
   "cell_type": "code",
   "execution_count": 3,
   "id": "94221873",
   "metadata": {},
   "outputs": [],
   "source": [
    "agent = ActorCritic()"
   ]
  },
  {
   "cell_type": "code",
   "execution_count": 4,
   "id": "2f7569a0",
   "metadata": {},
   "outputs": [],
   "source": [
    "fen = \"1K6/8/3k4/8/8/8/5R2/8 w - - 0 1\""
   ]
  },
  {
   "cell_type": "code",
   "execution_count": 5,
   "id": "646346f9",
   "metadata": {},
   "outputs": [],
   "source": [
    "features = agent.obtain_features(fen)"
   ]
  },
  {
   "cell_type": "code",
   "execution_count": 6,
   "id": "234bf43a",
   "metadata": {},
   "outputs": [
    {
     "data": {
      "text/plain": [
       "[2, 1, 3, 1, 1]"
      ]
     },
     "execution_count": 6,
     "metadata": {},
     "output_type": "execute_result"
    }
   ],
   "source": [
    "features"
   ]
  },
  {
   "cell_type": "code",
   "execution_count": 7,
   "id": "69f529d1",
   "metadata": {},
   "outputs": [
    {
     "data": {
      "text/plain": [
       "[[2, 1, 3, 1, 1]]"
      ]
     },
     "execution_count": 7,
     "metadata": {},
     "output_type": "execute_result"
    }
   ],
   "source": [
    "[features]"
   ]
  },
  {
   "cell_type": "code",
   "execution_count": null,
   "id": "3d1e3916",
   "metadata": {},
   "outputs": [],
   "source": []
  }
 ],
 "metadata": {
  "kernelspec": {
   "display_name": "Python 3",
   "language": "python",
   "name": "python3"
  },
  "language_info": {
   "codemirror_mode": {
    "name": "ipython",
    "version": 3
   },
   "file_extension": ".py",
   "mimetype": "text/x-python",
   "name": "python",
   "nbconvert_exporter": "python",
   "pygments_lexer": "ipython3",
   "version": "3.13.4"
  }
 },
 "nbformat": 4,
 "nbformat_minor": 5
}
