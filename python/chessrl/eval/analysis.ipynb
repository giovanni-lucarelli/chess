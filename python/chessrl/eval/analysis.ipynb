{
 "cells": [
  {
   "cell_type": "code",
   "execution_count": 7,
   "id": "107ffc39",
   "metadata": {},
   "outputs": [],
   "source": [
    "# load artifacts (from disk)\n",
    "import json, pandas as pd\n",
    "from chessrl.eval.helpers import (\n",
    "    vi_move_from_policy_map, vi_move_from_values,\n",
    "    mcts_move_from_instance,\n",
    ")\n",
    "from chessrl.eval.evaluator import evaluate\n",
    "from chessrl.algorithms.mcts import MCTS\n",
    "from chessrl.eval.helpers import optimal_moves_syzygy\n",
    "\n",
    "# load artifacts (from disk)\n",
    "from chessrl.utils.io import load_vf_parquet, load_policy_jsonl"
   ]
  },
  {
   "cell_type": "code",
   "execution_count": 8,
   "id": "14af54bf",
   "metadata": {},
   "outputs": [],
   "source": [
    "TB_PATH = \"../../../syzygy-tables/\"\n",
    "\n",
    "# dtm oracle\n",
    "dtz_oracle = pd.read_csv(TB_PATH + \"/krk_dtz.csv\").set_index(\"fen\")[\"dtz\"].to_dict()\n",
    "dtm_oracle = lambda fen: abs(int(dtz_oracle[fen]))\n",
    "\n",
    "# optimal moves source\n",
    "opt_moves   = optimal_moves_syzygy(TB_PATH)\n",
    "\n",
    "# evaluate (same function for all)\n",
    "test_fens = [ \"8/8/8/8/8/8/k7/2K4R w - - 0 1\", \"8/8/8/8/8/8/k7/2K2R2 w - - 0 1\", \"8/8/8/8/8/8/k7/2K4R w - - 0 1\" ] "
   ]
  },
  {
   "cell_type": "markdown",
   "id": "1153960f",
   "metadata": {},
   "source": [
    "# MCTS"
   ]
  },
  {
   "cell_type": "code",
   "execution_count": 11,
   "id": "9d25f924",
   "metadata": {},
   "outputs": [
    {
     "data": {
      "text/html": [
       "<div>\n",
       "<style scoped>\n",
       "    .dataframe tbody tr th:only-of-type {\n",
       "        vertical-align: middle;\n",
       "    }\n",
       "\n",
       "    .dataframe tbody tr th {\n",
       "        vertical-align: top;\n",
       "    }\n",
       "\n",
       "    .dataframe thead th {\n",
       "        text-align: right;\n",
       "    }\n",
       "</style>\n",
       "<table border=\"1\" class=\"dataframe\">\n",
       "  <thead>\n",
       "    <tr style=\"text-align: right;\">\n",
       "      <th></th>\n",
       "      <th>fen</th>\n",
       "      <th>dtm_policy</th>\n",
       "      <th>dtm_oracle</th>\n",
       "      <th>gap</th>\n",
       "      <th>success</th>\n",
       "      <th>ms_per_move</th>\n",
       "      <th>top1</th>\n",
       "      <th>top1_decisions</th>\n",
       "      <th>budget</th>\n",
       "    </tr>\n",
       "  </thead>\n",
       "  <tbody>\n",
       "    <tr>\n",
       "      <th>0</th>\n",
       "      <td>k7/2R5/1K6/8/8/8/8/8 w - - 0 1</td>\n",
       "      <td>1</td>\n",
       "      <td>1</td>\n",
       "      <td>0</td>\n",
       "      <td>1</td>\n",
       "      <td>4420.34705</td>\n",
       "      <td>1.0</td>\n",
       "      <td>1</td>\n",
       "      <td>6.0</td>\n",
       "    </tr>\n",
       "  </tbody>\n",
       "</table>\n",
       "</div>"
      ],
      "text/plain": [
       "                              fen  dtm_policy  dtm_oracle  gap  success  \\\n",
       "0  k7/2R5/1K6/8/8/8/8/8 w - - 0 1           1           1    0        1   \n",
       "\n",
       "   ms_per_move  top1  top1_decisions  budget  \n",
       "0   4420.34705   1.0               1     6.0  "
      ]
     },
     "execution_count": 11,
     "metadata": {},
     "output_type": "execute_result"
    }
   ],
   "source": [
    "# 3) MCTS\n",
    "mcts = MCTS(iterations=10000, seconds=0.0)\n",
    "move_fn = mcts_move_from_instance(mcts, \"seconds\")\n",
    "df_mcts   = evaluate(move_fn, test_fens, TB_PATH, dtm_oracle, optimal_moves=opt_moves, budget=6.0) # budget is in seconds\n",
    "df_mcts"
   ]
  },
  {
   "cell_type": "markdown",
   "id": "992f3cc1",
   "metadata": {},
   "source": [
    "# Value Iteration"
   ]
  },
  {
   "cell_type": "markdown",
   "id": "db4f4228",
   "metadata": {},
   "source": [
    "## from policy"
   ]
  },
  {
   "cell_type": "code",
   "execution_count": 9,
   "id": "435e1894",
   "metadata": {},
   "outputs": [
    {
     "data": {
      "text/html": [
       "<div>\n",
       "<style scoped>\n",
       "    .dataframe tbody tr th:only-of-type {\n",
       "        vertical-align: middle;\n",
       "    }\n",
       "\n",
       "    .dataframe tbody tr th {\n",
       "        vertical-align: top;\n",
       "    }\n",
       "\n",
       "    .dataframe thead th {\n",
       "        text-align: right;\n",
       "    }\n",
       "</style>\n",
       "<table border=\"1\" class=\"dataframe\">\n",
       "  <thead>\n",
       "    <tr style=\"text-align: right;\">\n",
       "      <th></th>\n",
       "      <th>fen</th>\n",
       "      <th>dtm_policy</th>\n",
       "      <th>dtm_oracle</th>\n",
       "      <th>gap</th>\n",
       "      <th>success</th>\n",
       "      <th>ms_per_move</th>\n",
       "      <th>top1</th>\n",
       "      <th>top1_decisions</th>\n",
       "      <th>budget</th>\n",
       "    </tr>\n",
       "  </thead>\n",
       "  <tbody>\n",
       "    <tr>\n",
       "      <th>0</th>\n",
       "      <td>k7/2R5/1K6/8/8/8/8/8 w - - 0 1</td>\n",
       "      <td>1</td>\n",
       "      <td>1</td>\n",
       "      <td>0</td>\n",
       "      <td>1</td>\n",
       "      <td>0.001403</td>\n",
       "      <td>1.0</td>\n",
       "      <td>1</td>\n",
       "      <td>None</td>\n",
       "    </tr>\n",
       "  </tbody>\n",
       "</table>\n",
       "</div>"
      ],
      "text/plain": [
       "                              fen  dtm_policy  dtm_oracle  gap  success  \\\n",
       "0  k7/2R5/1K6/8/8/8/8/8 w - - 0 1           1           1    0        1   \n",
       "\n",
       "   ms_per_move  top1  top1_decisions budget  \n",
       "0     0.001403   1.0               1   None  "
      ]
     },
     "execution_count": 9,
     "metadata": {},
     "output_type": "execute_result"
    }
   ],
   "source": [
    "policy_map = load_policy_jsonl(\"../../../artifacts/policies/vi_krk_greedy.jsonl\")\n",
    "\n",
    "#simple mate in one endgame\n",
    "test_fens = [\"k7/2R5/1K6/8/8/8/8/8 w - - 0 1\"]\n",
    "\n",
    "# print(policy_map[test_fens[0]])\n",
    "# print(opt_moves(test_fens[0]))\n",
    "\n",
    "vi_agent = vi_move_from_policy_map(policy_map)\n",
    "df_vi     = evaluate(vi_agent,   test_fens, TB_PATH, dtm_oracle, optimal_moves=opt_moves)\n",
    "df_vi"
   ]
  },
  {
   "cell_type": "markdown",
   "id": "84b93928",
   "metadata": {},
   "source": [
    "## from value function"
   ]
  },
  {
   "cell_type": "code",
   "execution_count": 10,
   "id": "df2fa3b2",
   "metadata": {},
   "outputs": [
    {
     "data": {
      "text/html": [
       "<div>\n",
       "<style scoped>\n",
       "    .dataframe tbody tr th:only-of-type {\n",
       "        vertical-align: middle;\n",
       "    }\n",
       "\n",
       "    .dataframe tbody tr th {\n",
       "        vertical-align: top;\n",
       "    }\n",
       "\n",
       "    .dataframe thead th {\n",
       "        text-align: right;\n",
       "    }\n",
       "</style>\n",
       "<table border=\"1\" class=\"dataframe\">\n",
       "  <thead>\n",
       "    <tr style=\"text-align: right;\">\n",
       "      <th></th>\n",
       "      <th>fen</th>\n",
       "      <th>dtm_policy</th>\n",
       "      <th>dtm_oracle</th>\n",
       "      <th>gap</th>\n",
       "      <th>success</th>\n",
       "      <th>ms_per_move</th>\n",
       "      <th>top1</th>\n",
       "      <th>top1_decisions</th>\n",
       "      <th>budget</th>\n",
       "    </tr>\n",
       "  </thead>\n",
       "  <tbody>\n",
       "    <tr>\n",
       "      <th>0</th>\n",
       "      <td>k7/2R5/1K6/8/8/8/8/8 w - - 0 1</td>\n",
       "      <td>1</td>\n",
       "      <td>1</td>\n",
       "      <td>0</td>\n",
       "      <td>1</td>\n",
       "      <td>19.978349</td>\n",
       "      <td>1.0</td>\n",
       "      <td>1</td>\n",
       "      <td>None</td>\n",
       "    </tr>\n",
       "  </tbody>\n",
       "</table>\n",
       "</div>"
      ],
      "text/plain": [
       "                              fen  dtm_policy  dtm_oracle  gap  success  \\\n",
       "0  k7/2R5/1K6/8/8/8/8/8 w - - 0 1           1           1    0        1   \n",
       "\n",
       "   ms_per_move  top1  top1_decisions budget  \n",
       "0    19.978349   1.0               1   None  "
      ]
     },
     "execution_count": 10,
     "metadata": {},
     "output_type": "execute_result"
    }
   ],
   "source": [
    "V = load_vf_parquet(\"../../../artifacts/values/vi_krk_values.parquet\")\n",
    "\n",
    "# V[test_fens[0]]\n",
    "\n",
    "vi_v_agent = vi_move_from_values(V, TB_PATH)\n",
    "\n",
    "df_vi_v   = evaluate(vi_v_agent, test_fens, TB_PATH, dtm_oracle, optimal_moves=opt_moves)\n",
    "df_vi_v"
   ]
  }
 ],
 "metadata": {
  "kernelspec": {
   "display_name": ".venv (3.12.3)",
   "language": "python",
   "name": "python3"
  },
  "language_info": {
   "codemirror_mode": {
    "name": "ipython",
    "version": 3
   },
   "file_extension": ".py",
   "mimetype": "text/x-python",
   "name": "python",
   "nbconvert_exporter": "python",
   "pygments_lexer": "ipython3",
   "version": "3.12.3"
  }
 },
 "nbformat": 4,
 "nbformat_minor": 5
}
