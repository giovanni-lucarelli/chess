{
 "cells": [
  {
   "cell_type": "code",
   "execution_count": 25,
   "id": "107ffc39",
   "metadata": {},
   "outputs": [],
   "source": [
    "# load artifacts (from disk)\n",
    "import json, pandas as pd\n",
    "from chessrl.eval.adapters import PolicyMapAgent, GreedyFromVAgent, MCTSAgent\n",
    "from chessrl.utils.helpers import make_env_factory\n",
    "from chessrl.eval.evaluator import evaluate\n",
    "from chessrl.algorithms.mcts import MCTS\n",
    "\n",
    "TB_PATH = \"../../../syzygy-tables/\"\n",
    "\n",
    "# # 1) If you saved a policy map (fen->uci)\n",
    "# policy_map = {json.loads(l)[\"fen\"]: json.loads(l)[\"uci\"] for l in open(\"artifacts/policies/vi_krk_greedy.jsonl\")}\n",
    "# vi_agent = PolicyMapAgent(policy_map)\n",
    "\n",
    "# # 2) If you saved values (fen->V) and prefer greedy-from-V at test-time\n",
    "# V = pd.read_parquet(\"artifacts/values/vi_krk_values.parquet\").set_index(\"fen\")[\"V\"].to_dict()\n",
    "env_factory = make_env_factory(TB_PATH)\n",
    "# vi_v_agent = GreedyFromVAgent(V, env_factory)\n",
    "\n",
    "# 3) MCTS (no artifact)\n",
    "mcts_agent = MCTSAgent(MCTS(iterations=1000, seconds=20.0))\n"
   ]
  },
  {
   "cell_type": "code",
   "execution_count": 20,
   "id": "2b47a159",
   "metadata": {},
   "outputs": [],
   "source": [
    "\n",
    "# dtm oracle (e.g., from your CSV where DTM ≈ abs(DTZ) in KRK/KQK/KBBK)\n",
    "dtz_map = pd.read_csv(TB_PATH + \"/krk_dtz.csv\").set_index(\"fen\")[\"dtz\"].to_dict()\n",
    "dtm_oracle = lambda fen: abs(int(dtz_map[fen]))\n"
   ]
  },
  {
   "cell_type": "code",
   "execution_count": 26,
   "id": "646fb78e",
   "metadata": {},
   "outputs": [],
   "source": [
    "\n",
    "from chessrl.utils.helpers import make_env_factory, optimal_moves_syzygy, dtm_from_dtz_map\n",
    "\n",
    "dtm_oracle = dtm_from_dtz_map(dtz_map)\n",
    "\n",
    "env_factory = make_env_factory(TB_PATH)\n",
    "opt_moves   = optimal_moves_syzygy(TB_PATH)\n",
    "\n",
    "# evaluate (same function for all)\n",
    "test_fens = [ \"8/8/8/8/8/8/k7/2K4R w - - 0 1\", \"8/8/8/8/8/8/k7/2K2R2 w - - 0 1\", \"8/8/8/8/8/8/k7/2K4R w - - 0 1\" ] \n",
    "# df_vi     = evaluate(vi_agent.act,   test_fens, env_factory, dtm_oracle)\n",
    "# df_vi_v   = evaluate(vi_v_agent.act, test_fens, env_factory, dtm_oracle)\n",
    "df_mcts   = evaluate(mcts_agent.act, test_fens, env_factory, dtm_oracle, optimal_moves=opt_moves, budget=1000)\n",
    "\n"
   ]
  },
  {
   "cell_type": "code",
   "execution_count": 27,
   "id": "c1c835c8",
   "metadata": {},
   "outputs": [
    {
     "data": {
      "text/html": [
       "<div>\n",
       "<style scoped>\n",
       "    .dataframe tbody tr th:only-of-type {\n",
       "        vertical-align: middle;\n",
       "    }\n",
       "\n",
       "    .dataframe tbody tr th {\n",
       "        vertical-align: top;\n",
       "    }\n",
       "\n",
       "    .dataframe thead th {\n",
       "        text-align: right;\n",
       "    }\n",
       "</style>\n",
       "<table border=\"1\" class=\"dataframe\">\n",
       "  <thead>\n",
       "    <tr style=\"text-align: right;\">\n",
       "      <th></th>\n",
       "      <th>fen</th>\n",
       "      <th>plies_policy</th>\n",
       "      <th>dtm_oracle</th>\n",
       "      <th>gap</th>\n",
       "      <th>success</th>\n",
       "      <th>ms_per_move</th>\n",
       "      <th>top1</th>\n",
       "      <th>budget</th>\n",
       "    </tr>\n",
       "  </thead>\n",
       "  <tbody>\n",
       "    <tr>\n",
       "      <th>0</th>\n",
       "      <td>8/8/8/8/8/8/k7/2K4R w - - 0 1</td>\n",
       "      <td>3</td>\n",
       "      <td>3</td>\n",
       "      <td>0</td>\n",
       "      <td>1</td>\n",
       "      <td>6061.486182</td>\n",
       "      <td>1</td>\n",
       "      <td>1000</td>\n",
       "    </tr>\n",
       "    <tr>\n",
       "      <th>1</th>\n",
       "      <td>8/8/8/8/8/8/k7/2K2R2 w - - 0 1</td>\n",
       "      <td>3</td>\n",
       "      <td>3</td>\n",
       "      <td>0</td>\n",
       "      <td>1</td>\n",
       "      <td>6108.209548</td>\n",
       "      <td>1</td>\n",
       "      <td>1000</td>\n",
       "    </tr>\n",
       "    <tr>\n",
       "      <th>2</th>\n",
       "      <td>8/8/8/8/8/8/k7/2K4R w - - 0 1</td>\n",
       "      <td>3</td>\n",
       "      <td>3</td>\n",
       "      <td>0</td>\n",
       "      <td>1</td>\n",
       "      <td>5588.644659</td>\n",
       "      <td>1</td>\n",
       "      <td>1000</td>\n",
       "    </tr>\n",
       "  </tbody>\n",
       "</table>\n",
       "</div>"
      ],
      "text/plain": [
       "                              fen  plies_policy  dtm_oracle  gap  success  \\\n",
       "0   8/8/8/8/8/8/k7/2K4R w - - 0 1             3           3    0        1   \n",
       "1  8/8/8/8/8/8/k7/2K2R2 w - - 0 1             3           3    0        1   \n",
       "2   8/8/8/8/8/8/k7/2K4R w - - 0 1             3           3    0        1   \n",
       "\n",
       "   ms_per_move  top1  budget  \n",
       "0  6061.486182     1    1000  \n",
       "1  6108.209548     1    1000  \n",
       "2  5588.644659     1    1000  "
      ]
     },
     "execution_count": 27,
     "metadata": {},
     "output_type": "execute_result"
    }
   ],
   "source": [
    "df_mcts"
   ]
  }
 ],
 "metadata": {
  "kernelspec": {
   "display_name": ".venv (3.12.3)",
   "language": "python",
   "name": "python3"
  },
  "language_info": {
   "codemirror_mode": {
    "name": "ipython",
    "version": 3
   },
   "file_extension": ".py",
   "mimetype": "text/x-python",
   "name": "python",
   "nbconvert_exporter": "python",
   "pygments_lexer": "ipython3",
   "version": "3.12.3"
  }
 },
 "nbformat": 4,
 "nbformat_minor": 5
}
