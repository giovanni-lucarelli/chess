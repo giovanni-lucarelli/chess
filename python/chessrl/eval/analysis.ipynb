{
 "cells": [
  {
   "cell_type": "code",
   "execution_count": 2,
   "id": "107ffc39",
   "metadata": {},
   "outputs": [
    {
     "name": "stderr",
     "output_type": "stream",
     "text": [
      "2025-08-25 00:55:23,167 - INFO - Loading config file...\n"
     ]
    }
   ],
   "source": [
    "# load artifacts (from disk)\n",
    "import json, pandas as pd\n",
    "from chessrl.eval.helpers import (\n",
    "    vi_move_from_policy_map, vi_move_from_values,\n",
    "    mcts_move_from_instance,\n",
    ")\n",
    "from chessrl.eval.evaluator import evaluate\n",
    "from chessrl.algorithms.mcts import MCTS\n",
    "from chessrl.eval.helpers import optimal_moves_syzygy\n",
    "\n",
    "# load artifacts (from disk)\n",
    "from chessrl.utils.io import load_vf_parquet, load_policy_jsonl"
   ]
  },
  {
   "cell_type": "code",
   "execution_count": 3,
   "id": "14af54bf",
   "metadata": {},
   "outputs": [],
   "source": [
    "TB_PATH = \"../../../syzygy-tables/\"\n",
    "\n",
    "# dtm oracle\n",
    "dtz_oracle = pd.read_csv(TB_PATH + \"/krk_dtz.csv\").set_index(\"fen\")[\"dtz\"].to_dict()\n",
    "dtm_oracle = lambda fen: abs(int(dtz_oracle[fen]))\n",
    "\n",
    "# optimal moves source\n",
    "opt_moves   = optimal_moves_syzygy(TB_PATH)\n",
    "\n",
    "# evaluate (same function for all)\n",
    "test_fens = [ \"8/8/8/8/8/8/k7/2K4R w - - 0 1\", \"8/8/8/8/8/8/k7/2K2R2 w - - 0 1\", \"8/8/8/8/8/8/k7/2K4R w - - 0 1\" ] "
   ]
  },
  {
   "cell_type": "markdown",
   "id": "1153960f",
   "metadata": {},
   "source": [
    "# MCTS"
   ]
  },
  {
   "cell_type": "code",
   "execution_count": 3,
   "id": "9d25f924",
   "metadata": {},
   "outputs": [
    {
     "ename": "KeyboardInterrupt",
     "evalue": "",
     "output_type": "error",
     "traceback": [
      "\u001b[0;31m---------------------------------------------------------------------------\u001b[0m",
      "\u001b[0;31mKeyboardInterrupt\u001b[0m                         Traceback (most recent call last)",
      "Cell \u001b[0;32mIn[3], line 4\u001b[0m\n\u001b[1;32m      2\u001b[0m mcts \u001b[38;5;241m=\u001b[39m MCTS(iterations\u001b[38;5;241m=\u001b[39m\u001b[38;5;241m10000\u001b[39m, seconds\u001b[38;5;241m=\u001b[39m\u001b[38;5;241m0.0\u001b[39m)\n\u001b[1;32m      3\u001b[0m move_fn \u001b[38;5;241m=\u001b[39m mcts_move_from_instance(mcts, \u001b[38;5;124m\"\u001b[39m\u001b[38;5;124mseconds\u001b[39m\u001b[38;5;124m\"\u001b[39m)\n\u001b[0;32m----> 4\u001b[0m df_mcts   \u001b[38;5;241m=\u001b[39m \u001b[43mevaluate\u001b[49m\u001b[43m(\u001b[49m\u001b[43mmove_fn\u001b[49m\u001b[43m,\u001b[49m\u001b[43m \u001b[49m\u001b[43mtest_fens\u001b[49m\u001b[43m,\u001b[49m\u001b[43m \u001b[49m\u001b[43mTB_PATH\u001b[49m\u001b[43m,\u001b[49m\u001b[43m \u001b[49m\u001b[43mdtm_oracle\u001b[49m\u001b[43m,\u001b[49m\u001b[43m \u001b[49m\u001b[43moptimal_moves\u001b[49m\u001b[38;5;241;43m=\u001b[39;49m\u001b[43mopt_moves\u001b[49m\u001b[43m,\u001b[49m\u001b[43m \u001b[49m\u001b[43mbudget\u001b[49m\u001b[38;5;241;43m=\u001b[39;49m\u001b[38;5;241;43m6.0\u001b[39;49m\u001b[43m)\u001b[49m \u001b[38;5;66;03m# budget is in seconds\u001b[39;00m\n\u001b[1;32m      5\u001b[0m df_mcts\n",
      "File \u001b[0;32m~/Chess project/python/chessrl/eval/evaluator.py:22\u001b[0m, in \u001b[0;36mevaluate\u001b[0;34m(move_fn, fens, tb_path, dtm_oracle, optimal_moves, budget, max_plies)\u001b[0m\n\u001b[1;32m     19\u001b[0m root_fen \u001b[38;5;241m=\u001b[39m env\u001b[38;5;241m.\u001b[39mto_fen()\n\u001b[1;32m     21\u001b[0m t0 \u001b[38;5;241m=\u001b[39m time\u001b[38;5;241m.\u001b[39mperf_counter()\n\u001b[0;32m---> 22\u001b[0m uci \u001b[38;5;241m=\u001b[39m \u001b[43mmove_fn\u001b[49m\u001b[43m(\u001b[49m\u001b[43mroot_fen\u001b[49m\u001b[43m,\u001b[49m\u001b[43m \u001b[49m\u001b[43mbudget\u001b[49m\u001b[38;5;241;43m=\u001b[39;49m\u001b[43mbudget\u001b[49m\u001b[43m)\u001b[49m  \u001b[38;5;66;03m# greedy or MCTS\u001b[39;00m\n\u001b[1;32m     23\u001b[0m total_s \u001b[38;5;241m+\u001b[39m\u001b[38;5;241m=\u001b[39m (time\u001b[38;5;241m.\u001b[39mperf_counter() \u001b[38;5;241m-\u001b[39m t0); n \u001b[38;5;241m+\u001b[39m\u001b[38;5;241m=\u001b[39m \u001b[38;5;241m1\u001b[39m\n\u001b[1;32m     24\u001b[0m \u001b[38;5;28;01mif\u001b[39;00m first \u001b[38;5;129;01mis\u001b[39;00m \u001b[38;5;28;01mNone\u001b[39;00m:\n",
      "File \u001b[0;32m~/Chess project/python/chessrl/eval/helpers.py:161\u001b[0m, in \u001b[0;36mmcts_move_from_instance.<locals>.move_fn\u001b[0;34m(fen, budget)\u001b[0m\n\u001b[1;32m    159\u001b[0m         mcts\u001b[38;5;241m.\u001b[39mseconds \u001b[38;5;241m=\u001b[39m \u001b[38;5;28mfloat\u001b[39m(budget)\n\u001b[1;32m    160\u001b[0m g \u001b[38;5;241m=\u001b[39m cp\u001b[38;5;241m.\u001b[39mGame(); g\u001b[38;5;241m.\u001b[39mreset_from_fen(fen)\n\u001b[0;32m--> 161\u001b[0m mv \u001b[38;5;241m=\u001b[39m \u001b[43mmcts\u001b[49m\u001b[38;5;241;43m.\u001b[39;49m\u001b[43msearch\u001b[49m\u001b[43m(\u001b[49m\u001b[43mg\u001b[49m\u001b[43m)\u001b[49m\n\u001b[1;32m    162\u001b[0m \u001b[38;5;28;01mreturn\u001b[39;00m cp\u001b[38;5;241m.\u001b[39mMove\u001b[38;5;241m.\u001b[39mto_uci(mv) \u001b[38;5;28;01mif\u001b[39;00m mv \u001b[38;5;28;01melse\u001b[39;00m \u001b[38;5;124m\"\u001b[39m\u001b[38;5;124m\"\u001b[39m\n",
      "File \u001b[0;32m~/Chess project/python/chessrl/algorithms/mcts.py:130\u001b[0m, in \u001b[0;36mMCTS.search\u001b[0;34m(self, root_state)\u001b[0m\n\u001b[1;32m    129\u001b[0m \u001b[38;5;28;01mdef\u001b[39;00m\u001b[38;5;250m \u001b[39m\u001b[38;5;21msearch\u001b[39m(\u001b[38;5;28mself\u001b[39m, root_state: cp\u001b[38;5;241m.\u001b[39mGame) \u001b[38;5;241m-\u001b[39m\u001b[38;5;241m>\u001b[39m Optional[cp\u001b[38;5;241m.\u001b[39mMove]:\n\u001b[0;32m--> 130\u001b[0m     best, stats \u001b[38;5;241m=\u001b[39m \u001b[38;5;28;43mself\u001b[39;49m\u001b[38;5;241;43m.\u001b[39;49m\u001b[43msearch_with_stats\u001b[49m\u001b[43m(\u001b[49m\u001b[43mroot_state\u001b[49m\u001b[43m,\u001b[49m\u001b[43m \u001b[49m\u001b[43mtop_k\u001b[49m\u001b[38;5;241;43m=\u001b[39;49m\u001b[38;5;241;43m1\u001b[39;49m\u001b[43m,\u001b[49m\u001b[43m \u001b[49m\u001b[43mprint_stats\u001b[49m\u001b[38;5;241;43m=\u001b[39;49m\u001b[38;5;28;43;01mFalse\u001b[39;49;00m\u001b[43m)\u001b[49m\n\u001b[1;32m    131\u001b[0m     \u001b[38;5;28;01mreturn\u001b[39;00m best\n",
      "File \u001b[0;32m~/Chess project/python/chessrl/algorithms/mcts.py:161\u001b[0m, in \u001b[0;36mMCTS.search_with_stats\u001b[0;34m(self, root_state, top_k, print_stats)\u001b[0m\n\u001b[1;32m    158\u001b[0m     node \u001b[38;5;241m=\u001b[39m \u001b[38;5;28mself\u001b[39m\u001b[38;5;241m.\u001b[39m_expand(node, state)\n\u001b[1;32m    160\u001b[0m \u001b[38;5;66;03m# 3) Simulation\u001b[39;00m\n\u001b[0;32m--> 161\u001b[0m result \u001b[38;5;241m=\u001b[39m \u001b[38;5;28;43mself\u001b[39;49m\u001b[38;5;241;43m.\u001b[39;49m\u001b[43m_simulate\u001b[49m\u001b[43m(\u001b[49m\u001b[43mstate\u001b[49m\u001b[43m)\u001b[49m\n\u001b[1;32m    163\u001b[0m \u001b[38;5;66;03m# 4) Backprop\u001b[39;00m\n\u001b[1;32m    164\u001b[0m \u001b[38;5;28mself\u001b[39m\u001b[38;5;241m.\u001b[39m_backprop(node, result)\n",
      "File \u001b[0;32m~/Chess project/python/chessrl/algorithms/mcts.py:299\u001b[0m, in \u001b[0;36mMCTS._simulate\u001b[0;34m(self, state)\u001b[0m\n\u001b[1;32m    297\u001b[0m \u001b[38;5;28;01mwhile\u001b[39;00m \u001b[38;5;129;01mnot\u001b[39;00m g\u001b[38;5;241m.\u001b[39mis_game_over() \u001b[38;5;129;01mand\u001b[39;00m ply \u001b[38;5;241m<\u001b[39m \u001b[38;5;28mself\u001b[39m\u001b[38;5;241m.\u001b[39mmax_playout_ply:\n\u001b[1;32m    298\u001b[0m     side \u001b[38;5;241m=\u001b[39m g\u001b[38;5;241m.\u001b[39mget_side_to_move()\n\u001b[0;32m--> 299\u001b[0m     moves \u001b[38;5;241m=\u001b[39m \u001b[43mg\u001b[49m\u001b[38;5;241;43m.\u001b[39;49m\u001b[43mlegal_moves\u001b[49m\u001b[43m(\u001b[49m\u001b[43mside\u001b[49m\u001b[43m)\u001b[49m\n\u001b[1;32m    300\u001b[0m     \u001b[38;5;28;01mif\u001b[39;00m \u001b[38;5;129;01mnot\u001b[39;00m moves:\n\u001b[1;32m    301\u001b[0m         \u001b[38;5;28;01mbreak\u001b[39;00m\n",
      "\u001b[0;31mKeyboardInterrupt\u001b[0m: "
     ]
    }
   ],
   "source": [
    "# 3) MCTS\n",
    "mcts = MCTS(iterations=10000, seconds=0.0)\n",
    "move_fn = mcts_move_from_instance(mcts, \"seconds\")\n",
    "df_mcts   = evaluate(move_fn, test_fens, TB_PATH, dtm_oracle, optimal_moves=opt_moves, budget=6.0) # budget is in seconds\n",
    "df_mcts"
   ]
  },
  {
   "cell_type": "markdown",
   "id": "992f3cc1",
   "metadata": {},
   "source": [
    "# Value Iteration"
   ]
  },
  {
   "cell_type": "markdown",
   "id": "db4f4228",
   "metadata": {},
   "source": [
    "## from policy"
   ]
  },
  {
   "cell_type": "code",
   "execution_count": 4,
   "id": "435e1894",
   "metadata": {},
   "outputs": [
    {
     "data": {
      "text/html": [
       "<div>\n",
       "<style scoped>\n",
       "    .dataframe tbody tr th:only-of-type {\n",
       "        vertical-align: middle;\n",
       "    }\n",
       "\n",
       "    .dataframe tbody tr th {\n",
       "        vertical-align: top;\n",
       "    }\n",
       "\n",
       "    .dataframe thead th {\n",
       "        text-align: right;\n",
       "    }\n",
       "</style>\n",
       "<table border=\"1\" class=\"dataframe\">\n",
       "  <thead>\n",
       "    <tr style=\"text-align: right;\">\n",
       "      <th></th>\n",
       "      <th>fen</th>\n",
       "      <th>dtm_policy</th>\n",
       "      <th>dtm_oracle</th>\n",
       "      <th>gap</th>\n",
       "      <th>success</th>\n",
       "      <th>ms_per_move</th>\n",
       "      <th>top1</th>\n",
       "      <th>top1_decisions</th>\n",
       "      <th>budget</th>\n",
       "    </tr>\n",
       "  </thead>\n",
       "  <tbody>\n",
       "    <tr>\n",
       "      <th>0</th>\n",
       "      <td>k7/2R5/1K6/8/8/8/8/8 w - - 0 1</td>\n",
       "      <td>1</td>\n",
       "      <td>1</td>\n",
       "      <td>0</td>\n",
       "      <td>1</td>\n",
       "      <td>0.002802</td>\n",
       "      <td>1.0</td>\n",
       "      <td>1</td>\n",
       "      <td>None</td>\n",
       "    </tr>\n",
       "  </tbody>\n",
       "</table>\n",
       "</div>"
      ],
      "text/plain": [
       "                              fen  dtm_policy  dtm_oracle  gap  success  \\\n",
       "0  k7/2R5/1K6/8/8/8/8/8 w - - 0 1           1           1    0        1   \n",
       "\n",
       "   ms_per_move  top1  top1_decisions budget  \n",
       "0     0.002802   1.0               1   None  "
      ]
     },
     "execution_count": 4,
     "metadata": {},
     "output_type": "execute_result"
    }
   ],
   "source": [
    "policy_map = load_policy_jsonl(\"../../../artifacts/policies/vi_krk_greedy.jsonl\")\n",
    "\n",
    "#simple mate in one endgame\n",
    "test_fens = [\"k7/2R5/1K6/8/8/8/8/8 w - - 0 1\"]\n",
    "\n",
    "# print(policy_map[test_fens[0]])\n",
    "# print(opt_moves(test_fens[0]))\n",
    "\n",
    "vi_agent = vi_move_from_policy_map(policy_map)\n",
    "df_vi     = evaluate(vi_agent,   test_fens, TB_PATH, dtm_oracle, optimal_moves=opt_moves)\n",
    "df_vi"
   ]
  },
  {
   "cell_type": "markdown",
   "id": "84b93928",
   "metadata": {},
   "source": [
    "## from value function"
   ]
  },
  {
   "cell_type": "code",
   "execution_count": 3,
   "id": "df2fa3b2",
   "metadata": {},
   "outputs": [
    {
     "data": {
      "text/html": [
       "<div>\n",
       "<style scoped>\n",
       "    .dataframe tbody tr th:only-of-type {\n",
       "        vertical-align: middle;\n",
       "    }\n",
       "\n",
       "    .dataframe tbody tr th {\n",
       "        vertical-align: top;\n",
       "    }\n",
       "\n",
       "    .dataframe thead th {\n",
       "        text-align: right;\n",
       "    }\n",
       "</style>\n",
       "<table border=\"1\" class=\"dataframe\">\n",
       "  <thead>\n",
       "    <tr style=\"text-align: right;\">\n",
       "      <th></th>\n",
       "      <th>fen</th>\n",
       "      <th>dtm_policy</th>\n",
       "      <th>dtm_oracle</th>\n",
       "      <th>gap</th>\n",
       "      <th>success</th>\n",
       "      <th>ms_per_move</th>\n",
       "      <th>top1</th>\n",
       "      <th>top1_decisions</th>\n",
       "      <th>budget</th>\n",
       "    </tr>\n",
       "  </thead>\n",
       "  <tbody>\n",
       "    <tr>\n",
       "      <th>0</th>\n",
       "      <td>8/8/8/8/8/8/k7/2K4R w - - 0 1</td>\n",
       "      <td>3</td>\n",
       "      <td>3</td>\n",
       "      <td>0</td>\n",
       "      <td>1</td>\n",
       "      <td>33.787917</td>\n",
       "      <td>1.0</td>\n",
       "      <td>2</td>\n",
       "      <td>None</td>\n",
       "    </tr>\n",
       "    <tr>\n",
       "      <th>1</th>\n",
       "      <td>8/8/8/8/8/8/k7/2K2R2 w - - 0 1</td>\n",
       "      <td>3</td>\n",
       "      <td>3</td>\n",
       "      <td>0</td>\n",
       "      <td>1</td>\n",
       "      <td>23.059252</td>\n",
       "      <td>1.0</td>\n",
       "      <td>2</td>\n",
       "      <td>None</td>\n",
       "    </tr>\n",
       "    <tr>\n",
       "      <th>2</th>\n",
       "      <td>8/8/8/8/8/8/k7/2K4R w - - 0 1</td>\n",
       "      <td>3</td>\n",
       "      <td>3</td>\n",
       "      <td>0</td>\n",
       "      <td>1</td>\n",
       "      <td>22.180106</td>\n",
       "      <td>1.0</td>\n",
       "      <td>2</td>\n",
       "      <td>None</td>\n",
       "    </tr>\n",
       "  </tbody>\n",
       "</table>\n",
       "</div>"
      ],
      "text/plain": [
       "                              fen  dtm_policy  dtm_oracle  gap  success  \\\n",
       "0   8/8/8/8/8/8/k7/2K4R w - - 0 1           3           3    0        1   \n",
       "1  8/8/8/8/8/8/k7/2K2R2 w - - 0 1           3           3    0        1   \n",
       "2   8/8/8/8/8/8/k7/2K4R w - - 0 1           3           3    0        1   \n",
       "\n",
       "   ms_per_move  top1  top1_decisions budget  \n",
       "0    33.787917   1.0               2   None  \n",
       "1    23.059252   1.0               2   None  \n",
       "2    22.180106   1.0               2   None  "
      ]
     },
     "execution_count": 3,
     "metadata": {},
     "output_type": "execute_result"
    }
   ],
   "source": [
    "V = load_vf_parquet(\"../../../artifacts/values/vi_krk_values.parquet\")\n",
    "\n",
    "# V[test_fens[0]]\n",
    "\n",
    "vi_v_agent = vi_move_from_values(V, TB_PATH)\n",
    "\n",
    "df_vi_v   = evaluate(vi_v_agent, test_fens, TB_PATH, dtm_oracle, optimal_moves=opt_moves)\n",
    "df_vi_v"
   ]
  }
 ],
 "metadata": {
  "kernelspec": {
   "display_name": ".venv",
   "language": "python",
   "name": "python3"
  },
  "language_info": {
   "codemirror_mode": {
    "name": "ipython",
    "version": 3
   },
   "file_extension": ".py",
   "mimetype": "text/x-python",
   "name": "python",
   "nbconvert_exporter": "python",
   "pygments_lexer": "ipython3",
   "version": "3.10.12"
  }
 },
 "nbformat": 4,
 "nbformat_minor": 5
}
