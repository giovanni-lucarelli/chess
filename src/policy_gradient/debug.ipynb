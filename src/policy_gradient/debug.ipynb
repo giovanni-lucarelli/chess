{
 "cells": [
  {
   "cell_type": "code",
   "execution_count": 1,
   "id": "69740a0f",
   "metadata": {},
   "outputs": [
    {
     "name": "stderr",
     "output_type": "stream",
     "text": [
      "2025-08-20 23:28:34,946 - INFO - Loading config file...\n"
     ]
    }
   ],
   "source": [
    "import sys\n",
    "sys.path.insert(0, '../../')\n",
    "from reinforce import Policy,REINFORCE\n",
    "from utils.plot_chess import plot_game, plot_fen\n",
    "import matplotlib.pyplot as plt\n",
    "from build.chess_py import Game,Env"
   ]
  },
  {
   "cell_type": "code",
   "execution_count": 2,
   "id": "7aaed0e7",
   "metadata": {},
   "outputs": [],
   "source": [
    "agent = REINFORCE()"
   ]
  },
  {
   "cell_type": "code",
   "execution_count": 3,
   "id": "10f6b7e5",
   "metadata": {},
   "outputs": [],
   "source": [
    "fen = \"8/8/3R1K2/7k/8/8/8/8 w - - 0 1\"\n",
    "game = Game()\n",
    "game.reset_from_fen(fen)"
   ]
  },
  {
   "cell_type": "code",
   "execution_count": 4,
   "id": "6b2584aa",
   "metadata": {},
   "outputs": [
    {
     "data": {
      "image/png": "[encoded data removed]",
      "text/plain": [
       "<Figure size 500x500 with 1 Axes>"
      ]
     },
     "metadata": {},
     "output_type": "display_data"
    },
    {
     "data": {
      "text/plain": [
       "<Axes: >"
      ]
     },
     "execution_count": 4,
     "metadata": {},
     "output_type": "execute_result"
    }
   ],
   "source": [
    "plot_game(game)"
   ]
  },
  {
   "cell_type": "code",
   "execution_count": 5,
   "id": "b4af6ff8",
   "metadata": {},
   "outputs": [],
   "source": [
    "states, actions, rewards, players, DTM = agent.sample_episode(fen)"
   ]
  },
  {
   "cell_type": "code",
   "execution_count": 6,
   "id": "32e6b48b",
   "metadata": {},
   "outputs": [
    {
     "name": "stdout",
     "output_type": "stream",
     "text": [
      "2736\n"
     ]
    }
   ],
   "source": [
    "print(actions[0])"
   ]
  },
  {
   "cell_type": "code",
   "execution_count": 7,
   "id": "32375bc6",
   "metadata": {},
   "outputs": [
    {
     "name": "stdout",
     "output_type": "stream",
     "text": [
      "Number of states: 100\n",
      "Number of actions: 100\n",
      "Number of rewards: 100\n",
      "Number of players: 100\n",
      "DTM (Distance to Mate): 50\n",
      "Total reward: -1.99\n",
      "Players in episode: [0, 1, 0, 1, 0, 1, 0, 1, 0, 1, 0, 1, 0, 1, 0, 1, 0, 1, 0, 1, 0, 1, 0, 1, 0, 1, 0, 1, 0, 1, 0, 1, 0, 1, 0, 1, 0, 1, 0, 1, 0, 1, 0, 1, 0, 1, 0, 1, 0, 1, 0, 1, 0, 1, 0, 1, 0, 1, 0, 1, 0, 1, 0, 1, 0, 1, 0, 1, 0, 1, 0, 1, 0, 1, 0, 1, 0, 1, 0, 1, 0, 1, 0, 1, 0, 1, 0, 1, 0, 1, 0, 1, 0, 1, 0, 1, 0, 1, 0, 1]\n"
     ]
    }
   ],
   "source": [
    "# Verify the episode data\n",
    "print(f\"Number of states: {len(states)}\")\n",
    "print(f\"Number of actions: {len(actions)}\")\n",
    "print(f\"Number of rewards: {len(rewards)}\")\n",
    "print(f\"Number of players: {len(players)}\")\n",
    "print(f\"DTM (Distance to Mate): {DTM}\")\n",
    "print(f\"Total reward: {sum(rewards)}\")\n",
    "print(f\"Players in episode: {players}\")"
   ]
  },
  {
   "cell_type": "code",
   "execution_count": 13,
   "id": "a9cb40d2",
   "metadata": {},
   "outputs": [
    {
     "ename": "KeyError",
     "evalue": "-1",
     "output_type": "error",
     "traceback": [
      "\u001b[31m---------------------------------------------------------------------------\u001b[39m",
      "\u001b[31mKeyError\u001b[39m                                  Traceback (most recent call last)",
      "\u001b[36mCell\u001b[39m\u001b[36m \u001b[39m\u001b[32mIn[13]\u001b[39m\u001b[32m, line 1\u001b[39m\n\u001b[32m----> \u001b[39m\u001b[32m1\u001b[39m actions_converted = [\u001b[43magent\u001b[49m\u001b[43m.\u001b[49m\u001b[43midx_to_move\u001b[49m\u001b[43m[\u001b[49m\u001b[43maction\u001b[49m\u001b[43m]\u001b[49m \u001b[38;5;28;01mfor\u001b[39;00m action \u001b[38;5;129;01min\u001b[39;00m actions]\n\u001b[32m      2\u001b[39m \u001b[38;5;28mprint\u001b[39m(\u001b[33m\"\u001b[39m\u001b[33mActions in UCI format:\u001b[39m\u001b[33m\"\u001b[39m)\n\u001b[32m      3\u001b[39m \u001b[38;5;28;01mfor\u001b[39;00m action \u001b[38;5;129;01min\u001b[39;00m actions_converted:\n",
      "\u001b[31mKeyError\u001b[39m: -1"
     ]
    }
   ],
   "source": [
    "actions_converted = [agent.idx_to_move[action] for action in actions]\n",
    "print(\"Actions in UCI format:\")\n",
    "for action in actions_converted:\n",
    "    print(action)"
   ]
  },
  {
   "cell_type": "code",
   "execution_count": 9,
   "id": "bb01700c",
   "metadata": {},
   "outputs": [
    {
     "name": "stdout",
     "output_type": "stream",
     "text": [
      "Episode 1663: Total reward = 998.0\n",
      "Episode 2832: Total reward = 998.0\n",
      "Episode 3073: Total reward = 998.0\n",
      "Episode 3748: Total reward = 998.0\n",
      "Episode 5815: Total reward = 998.0\n"
     ]
    }
   ],
   "source": [
    "# run many times the sampling episode and obtain the ones with positive rewards,\n",
    "# also save the positive episodes such that I can analyze them later\n",
    "\n",
    "positive_episodes = []\n",
    "\n",
    "for i in range(10000):\n",
    "    states, actions, rewards, players, DTM = agent.sample_episode(fen)\n",
    "    if sum(rewards) > 0:\n",
    "        print(f\"Episode {i+1}: Total reward = {sum(rewards)}\")\n",
    "        positive_episodes.append((states, actions, rewards, players, DTM))\n",
    "\n",
    "# Analyze positive episodes\n",
    "#for episode in positive_episodes:\n",
    "    #states, actions, rewards, players, DTM = episode\n",
    "    # Perform analysis on each positive episode"
   ]
  },
  {
   "cell_type": "code",
   "execution_count": 10,
   "id": "f00fe672",
   "metadata": {},
   "outputs": [
    {
     "data": {
      "text/plain": [
       "5"
      ]
     },
     "execution_count": 10,
     "metadata": {},
     "output_type": "execute_result"
    }
   ],
   "source": [
    "len(positive_episodes)"
   ]
  },
  {
   "cell_type": "code",
   "execution_count": 34,
   "id": "219a47cf",
   "metadata": {},
   "outputs": [
    {
     "data": {
      "text/plain": [
       "(['8/8/3R1K2/7k/8/8/8/8 w - - 0 1',\n",
       "  '8/8/5K2/7k/3R4/8/8/8 b - - 0 1',\n",
       "  '8/8/5K1k/8/3R4/8/8/8 w - - 0 1'],\n",
       " [2736, 2503, 1731],\n",
       " [-1.0, -1.0, 1000.0],\n",
       " [1, 0, 1],\n",
       " 3)"
      ]
     },
     "execution_count": 34,
     "metadata": {},
     "output_type": "execute_result"
    }
   ],
   "source": [
    "positive_episodes[4]"
   ]
  },
  {
   "cell_type": "code",
   "execution_count": null,
   "id": "8542ca98",
   "metadata": {},
   "outputs": [],
   "source": [
    "states = positive_episodes[4][0]\n",
    "actions = positive_episodes[4][1]\n",
    "rewards = positive_episodes[4][2]\n",
    "players = positive_episodes[4][3]\n",
    "DTM = positive_episodes[4][4]"
   ]
  },
  {
   "cell_type": "code",
   "execution_count": 8,
   "id": "6c6d198a",
   "metadata": {},
   "outputs": [
    {
     "data": {
      "text/plain": [
       "[-0.20498570881712333,\n",
       " -0.20524811454434036,\n",
       " -0.20552433109930565,\n",
       " -0.20581508536769016,\n",
       " -0.20612114249230543,\n",
       " -0.20644330788663728,\n",
       " -0.20678242935435504,\n",
       " -0.20713939932037373,\n",
       " -0.20751515717934077,\n",
       " -0.20791069176772714,\n",
       " -0.20832704396602858,\n",
       " -0.20876530943792482,\n",
       " -0.20922664151360507,\n",
       " -0.20971225422484743,\n",
       " -0.2102234254998394,\n",
       " -0.21076150052614676,\n",
       " -0.2113278952906808,\n",
       " -0.2119241003059798,\n",
       " -0.2125516845326103,\n",
       " -0.21321229950801085,\n",
       " -0.21390768369264299,\n",
       " -0.21463966704488735,\n",
       " -0.21541017583672353,\n",
       " -0.2162212377228669,\n",
       " -0.21707498707670198,\n",
       " -0.21797367060705472,\n",
       " -0.2189196532705839,\n",
       " -0.21991542449535148,\n",
       " -0.22096360473194893,\n",
       " -0.22206695234941992,\n",
       " -0.22322837089412623,\n",
       " -0.2244509167306592,\n",
       " -0.22573780708490443,\n",
       " -0.22709242851042571,\n",
       " -0.2285183458004481,\n",
       " -0.23001931136889275,\n",
       " -0.23159927512515027,\n",
       " -0.23326239486857925,\n",
       " -0.23501304723008343,\n",
       " -0.23685583918956152,\n",
       " -0.23879562019953843,\n",
       " -0.24083749494688256,\n",
       " -0.24298683678619218,\n",
       " -0.2452493018802023,\n",
       " -0.24763084408442348,\n",
       " -0.25013773061518263,\n",
       " -0.2527765585422975,\n",
       " -0.2555542721497869,\n",
       " -0.25847818121030197,\n",
       " -0.2615559802213705,\n",
       " -0.2647957686540742,\n",
       " -0.2682060722674466,\n",
       " -0.2717958655446806,\n",
       " -0.27557459531019013,\n",
       " -0.2795522055896738,\n",
       " -0.28373916377860403,\n",
       " -0.28814648818800426,\n",
       " -0.29278577704000447,\n",
       " -0.2976692389894784,\n",
       " -0.3028097252520825,\n",
       " -0.3082207634232447,\n",
       " -0.31391659307709974,\n",
       " -0.31991220323905234,\n",
       " -0.3262233718305814,\n",
       " -0.3328667071900857,\n",
       " -0.3398596917790376,\n",
       " -0.3472207281884606,\n",
       " -0.3549691875668007,\n",
       " -0.3631254605966323,\n",
       " -0.3717110111543498,\n",
       " -0.3807484327940524,\n",
       " -0.3902615082042657,\n",
       " -0.4002752717939639,\n",
       " -0.4108160755725936,\n",
       " -0.4219116584974669,\n",
       " -0.4335912194710178,\n",
       " -0.44588549418001877,\n",
       " -0.4588268359789671,\n",
       " -0.4724493010304917,\n",
       " -0.4867887379268334,\n",
       " -0.5018828820282457,\n",
       " -0.5177714547665745,\n",
       " -0.5344962681753416,\n",
       " -0.5521013349214122,\n",
       " -0.5706329841278024,\n",
       " -0.5901399832924236,\n",
       " -0.6106736666236038,\n",
       " -0.6322880701301092,\n",
       " -0.6550400738211677,\n",
       " -0.6789895513907028,\n",
       " -0.7041995277796872,\n",
       " -0.7307363450312497,\n",
       " -0.7586698368749998,\n",
       " -0.7880735124999998,\n",
       " -0.8190247499999999,\n",
       " -0.8516049999999998,\n",
       " -0.8858999999999999,\n",
       " -0.9219999999999999,\n",
       " -0.96,\n",
       " -1.0]"
      ]
     },
     "execution_count": 8,
     "metadata": {},
     "output_type": "execute_result"
    }
   ],
   "source": [
    "returns = agent.calculate_returns(rewards)\n",
    "returns"
   ]
  },
  {
   "cell_type": "code",
   "execution_count": 9,
   "id": "13c35262",
   "metadata": {},
   "outputs": [],
   "source": [
    "from utils.fen_parsing import parse_fen"
   ]
  },
  {
   "cell_type": "code",
   "execution_count": 10,
   "id": "63ef07a6",
   "metadata": {},
   "outputs": [],
   "source": [
    "log_probs = []\n",
    "episode_returns = []\n",
    "\n",
    "for i, player in enumerate(players):\n",
    "    if player == 0:  # White move (stored as 0 in our tracking)\n",
    "        fen_tensor = parse_fen(states[i]).unsqueeze(0)\n",
    "        legal_moves = agent.get_legal_move_indices_from_fen(states[i])  \n",
    "        \n",
    "        # Get log probabilities\n",
    "        log_prob_dist = agent.policy.get_log_probs(fen_tensor, legal_moves)\n",
    "        log_prob = log_prob_dist[0, actions[i]]\n",
    "        \n",
    "        log_probs.append(log_prob)\n",
    "        episode_returns.append(returns[i])"
   ]
  },
  {
   "cell_type": "code",
   "execution_count": 11,
   "id": "aa0eccfd",
   "metadata": {},
   "outputs": [],
   "source": [
    "import torch"
   ]
  },
  {
   "cell_type": "code",
   "execution_count": 12,
   "id": "c28e8f6c",
   "metadata": {},
   "outputs": [],
   "source": [
    "log_probs_tensor = torch.stack(log_probs)\n",
    "returns_tensor = torch.tensor(episode_returns, dtype=torch.float32)"
   ]
  },
  {
   "cell_type": "code",
   "execution_count": 14,
   "id": "76d232aa",
   "metadata": {},
   "outputs": [
    {
     "data": {
      "text/plain": [
       "-0.6960431933403015"
      ]
     },
     "execution_count": 14,
     "metadata": {},
     "output_type": "execute_result"
    }
   ],
   "source": [
    "loss = -torch.mean(log_probs_tensor * returns_tensor)\n",
    "loss.item()"
   ]
  },
  {
   "cell_type": "code",
   "execution_count": 33,
   "id": "22d5609c",
   "metadata": {},
   "outputs": [
    {
     "data": {
      "text/plain": [
       "tensor([0.], grad_fn=<StackBackward0>)"
      ]
     },
     "execution_count": 33,
     "metadata": {},
     "output_type": "execute_result"
    }
   ],
   "source": [
    "log_probs_tensor"
   ]
  },
  {
   "cell_type": "code",
   "execution_count": 36,
   "id": "5e4ba447",
   "metadata": {},
   "outputs": [
    {
     "data": {
      "text/plain": [
       "'8/8/3R1K2/7k/8/8/8/8 w - - 0 1'"
      ]
     },
     "execution_count": 36,
     "metadata": {},
     "output_type": "execute_result"
    }
   ],
   "source": [
    "states[0]"
   ]
  },
  {
   "cell_type": "code",
   "execution_count": 41,
   "id": "029a1dc7",
   "metadata": {},
   "outputs": [
    {
     "data": {
      "text/plain": [
       "tensor([[[[0., 0., 0., 0., 0., 0., 0., 0., 0., 0., 0., 0.],\n",
       "          [0., 0., 0., 0., 0., 0., 0., 0., 0., 0., 0., 0.],\n",
       "          [0., 0., 0., 0., 0., 0., 0., 0., 0., 0., 0., 0.],\n",
       "          [0., 0., 0., 0., 0., 0., 0., 0., 0., 0., 0., 0.],\n",
       "          [0., 0., 0., 0., 0., 0., 0., 0., 0., 0., 0., 0.],\n",
       "          [0., 0., 0., 0., 0., 0., 0., 0., 0., 0., 0., 0.],\n",
       "          [0., 0., 0., 0., 0., 0., 0., 0., 0., 0., 0., 0.],\n",
       "          [0., 0., 0., 0., 0., 0., 0., 0., 0., 0., 0., 0.]],\n",
       "\n",
       "         [[0., 0., 0., 0., 0., 0., 0., 0., 0., 0., 0., 0.],\n",
       "          [0., 0., 0., 0., 0., 0., 0., 0., 0., 0., 0., 0.],\n",
       "          [0., 0., 0., 0., 0., 0., 0., 0., 0., 0., 0., 0.],\n",
       "          [0., 0., 0., 0., 0., 0., 0., 0., 0., 0., 0., 0.],\n",
       "          [0., 0., 0., 0., 0., 0., 0., 0., 0., 0., 0., 0.],\n",
       "          [0., 0., 0., 0., 0., 0., 0., 0., 0., 0., 0., 0.],\n",
       "          [0., 0., 0., 0., 0., 0., 0., 0., 0., 0., 0., 0.],\n",
       "          [0., 0., 0., 0., 0., 0., 0., 0., 0., 0., 0., 0.]],\n",
       "\n",
       "         [[0., 0., 0., 0., 0., 0., 0., 0., 0., 0., 0., 0.],\n",
       "          [0., 0., 0., 0., 0., 0., 0., 0., 0., 0., 0., 0.],\n",
       "          [0., 0., 0., 0., 0., 0., 0., 0., 0., 0., 0., 0.],\n",
       "          [0., 0., 0., 1., 0., 0., 0., 0., 0., 0., 0., 0.],\n",
       "          [0., 0., 0., 0., 0., 0., 0., 0., 0., 0., 0., 0.],\n",
       "          [0., 0., 0., 0., 0., 1., 0., 0., 0., 0., 0., 0.],\n",
       "          [0., 0., 0., 0., 0., 0., 0., 0., 0., 0., 0., 0.],\n",
       "          [0., 0., 0., 0., 0., 0., 0., 0., 0., 0., 0., 0.]],\n",
       "\n",
       "         [[0., 0., 0., 0., 0., 0., 0., 0., 0., 0., 0., 0.],\n",
       "          [0., 0., 0., 0., 0., 0., 0., 0., 0., 0., 0., 0.],\n",
       "          [0., 0., 0., 0., 0., 0., 0., 0., 0., 0., 0., 0.],\n",
       "          [0., 0., 0., 0., 0., 0., 0., 0., 0., 0., 0., 0.],\n",
       "          [0., 0., 0., 0., 0., 0., 0., 0., 0., 0., 0., 0.],\n",
       "          [0., 0., 0., 0., 0., 0., 0., 0., 0., 0., 0., 0.],\n",
       "          [0., 0., 0., 0., 0., 0., 0., 0., 0., 0., 0., 0.],\n",
       "          [0., 0., 0., 0., 0., 0., 0., 0., 0., 0., 0., 1.]],\n",
       "\n",
       "         [[0., 0., 0., 0., 0., 0., 0., 0., 0., 0., 0., 0.],\n",
       "          [0., 0., 0., 0., 0., 0., 0., 0., 0., 0., 0., 0.],\n",
       "          [0., 0., 0., 0., 0., 0., 0., 0., 0., 0., 0., 0.],\n",
       "          [0., 0., 0., 0., 0., 0., 0., 0., 0., 0., 0., 0.],\n",
       "          [0., 0., 0., 0., 0., 0., 0., 0., 0., 0., 0., 0.],\n",
       "          [0., 0., 0., 0., 0., 0., 0., 0., 0., 0., 0., 0.],\n",
       "          [0., 0., 0., 0., 0., 0., 0., 0., 0., 0., 0., 0.],\n",
       "          [0., 0., 0., 0., 0., 0., 0., 0., 0., 0., 0., 0.]],\n",
       "\n",
       "         [[0., 0., 0., 0., 0., 0., 0., 0., 0., 0., 0., 0.],\n",
       "          [0., 0., 0., 0., 0., 0., 0., 0., 0., 0., 0., 0.],\n",
       "          [0., 0., 0., 0., 0., 0., 0., 0., 0., 0., 0., 0.],\n",
       "          [0., 0., 0., 0., 0., 0., 0., 0., 0., 0., 0., 0.],\n",
       "          [0., 0., 0., 0., 0., 0., 0., 0., 0., 0., 0., 0.],\n",
       "          [0., 0., 0., 0., 0., 0., 0., 0., 0., 0., 0., 0.],\n",
       "          [0., 0., 0., 0., 0., 0., 0., 0., 0., 0., 0., 0.],\n",
       "          [0., 0., 0., 0., 0., 0., 0., 0., 0., 0., 0., 0.]],\n",
       "\n",
       "         [[0., 0., 0., 0., 0., 0., 0., 0., 0., 0., 0., 0.],\n",
       "          [0., 0., 0., 0., 0., 0., 0., 0., 0., 0., 0., 0.],\n",
       "          [0., 0., 0., 0., 0., 0., 0., 0., 0., 0., 0., 0.],\n",
       "          [0., 0., 0., 0., 0., 0., 0., 0., 0., 0., 0., 0.],\n",
       "          [0., 0., 0., 0., 0., 0., 0., 0., 0., 0., 0., 0.],\n",
       "          [0., 0., 0., 0., 0., 0., 0., 0., 0., 0., 0., 0.],\n",
       "          [0., 0., 0., 0., 0., 0., 0., 0., 0., 0., 0., 0.],\n",
       "          [0., 0., 0., 0., 0., 0., 0., 0., 0., 0., 0., 0.]],\n",
       "\n",
       "         [[0., 0., 0., 0., 0., 0., 0., 0., 0., 0., 0., 0.],\n",
       "          [0., 0., 0., 0., 0., 0., 0., 0., 0., 0., 0., 0.],\n",
       "          [0., 0., 0., 0., 0., 0., 0., 0., 0., 0., 0., 0.],\n",
       "          [0., 0., 0., 0., 0., 0., 0., 0., 0., 0., 0., 0.],\n",
       "          [0., 0., 0., 0., 0., 0., 0., 0., 0., 0., 0., 0.],\n",
       "          [0., 0., 0., 0., 0., 0., 0., 0., 0., 0., 0., 0.],\n",
       "          [0., 0., 0., 0., 0., 0., 0., 0., 0., 0., 0., 0.],\n",
       "          [0., 0., 0., 0., 0., 0., 0., 0., 0., 0., 0., 0.]]]])"
      ]
     },
     "execution_count": 41,
     "metadata": {},
     "output_type": "execute_result"
    }
   ],
   "source": [
    "fen_tensor = parse_fen(states[0]).unsqueeze(0)\n",
    "fen_tensor\n"
   ]
  },
  {
   "cell_type": "code",
   "execution_count": 52,
   "id": "60ca2663",
   "metadata": {},
   "outputs": [
    {
     "data": {
      "text/plain": [
       "[2712,\n",
       " 2720,\n",
       " 2728,\n",
       " 2736,\n",
       " 2744,\n",
       " 2749,\n",
       " 2750,\n",
       " 2751,\n",
       " 2752,\n",
       " 2759,\n",
       " 2767,\n",
       " 2871,\n",
       " 2872,\n",
       " 2879,\n",
       " 2886,\n",
       " 2887,\n",
       " 2888]"
      ]
     },
     "execution_count": 52,
     "metadata": {},
     "output_type": "execute_result"
    }
   ],
   "source": [
    "legal_moves = agent.get_legal_move_indices_from_fen(states[0])\n",
    "legal_moves"
   ]
  },
  {
   "cell_type": "code",
   "execution_count": 55,
   "id": "6cdaec11",
   "metadata": {},
   "outputs": [
    {
     "data": {
      "text/plain": [
       "tensor(-2.8843, grad_fn=<SelectBackward0>)"
      ]
     },
     "execution_count": 55,
     "metadata": {},
     "output_type": "execute_result"
    }
   ],
   "source": [
    "log_prob_dist = agent.policy.get_log_probs(fen_tensor, legal_moves)\n",
    "log_prob_dist[0, actions[0]]"
   ]
  },
  {
   "cell_type": "code",
   "execution_count": 49,
   "id": "d1d5a028",
   "metadata": {},
   "outputs": [
    {
     "name": "stdout",
     "output_type": "stream",
     "text": [
      "First state FEN: 8/8/3R1K2/7k/8/8/8/8 w - - 0 1\n",
      "FEN tensor shape: torch.Size([1, 8, 8, 12])\n",
      "Legal moves: [2712, 2720, 2728, 2736, 2744, 2749, 2750, 2751, 2752, 2759, 2767, 2871, 2872, 2879, 2886, 2887, 2888]\n",
      "Number of legal moves: 17\n",
      "Raw logits shape: torch.Size([1, 4096])\n",
      "Raw logits min: -0.1388198584318161\n",
      "Raw logits max: 0.139855295419693\n",
      "Raw logits for legal moves: [0.0023105964064598083, 0.03125470131635666, -0.003024696372449398, 0.032907500863075256, -0.0783950686454773]\n",
      "Log probs shape: torch.Size([1, 4096])\n",
      "Log probs for legal moves: [-2.8223683834075928, -2.80724835395813, -2.8002889156341553, -2.812004804611206, -2.8754661083221436]\n"
     ]
    }
   ],
   "source": [
    "# Debug the get_log_probs issue\n",
    "from utils.fen_parsing import parse_fen\n",
    "\n",
    "# Get the first state from our episode\n",
    "first_state = states[0]\n",
    "print(f\"First state FEN: {first_state}\")\n",
    "\n",
    "# Parse it to tensor\n",
    "fen_tensor = parse_fen(first_state).unsqueeze(0)\n",
    "print(f\"FEN tensor shape: {fen_tensor.shape}\")\n",
    "\n",
    "# Get legal moves\n",
    "legal_moves = agent.get_legal_move_indices_from_fen(first_state)\n",
    "print(f\"Legal moves: {legal_moves}\")\n",
    "print(f\"Number of legal moves: {len(legal_moves)}\")\n",
    "\n",
    "# Check raw logits from the policy network\n",
    "raw_logits = agent.policy.forward(fen_tensor)\n",
    "print(f\"Raw logits shape: {raw_logits.shape}\")\n",
    "print(f\"Raw logits min: {raw_logits.min().item()}\")\n",
    "print(f\"Raw logits max: {raw_logits.max().item()}\")\n",
    "print(f\"Raw logits for legal moves: {[raw_logits[0, move].item() for move in legal_moves[:5]]}\")\n",
    "\n",
    "# Check what happens in get_log_probs\n",
    "log_probs = agent.policy.get_log_probs(fen_tensor, legal_moves)\n",
    "print(f\"Log probs shape: {log_probs.shape}\")\n",
    "print(f\"Log probs for legal moves: {[log_probs[0, move].item() for move in legal_moves[:5]]}\")"
   ]
  },
  {
   "cell_type": "code",
   "execution_count": 50,
   "id": "9aa89408",
   "metadata": {},
   "outputs": [
    {
     "name": "stdout",
     "output_type": "stream",
     "text": [
      "Fixed log probs for legal moves: [-2.758781671524048, -2.885833978652954, -2.795569896697998, -2.895465135574341, -2.8721792697906494]\n",
      "Sum of probabilities for legal moves: 1.0\n"
     ]
    }
   ],
   "source": [
    "# Test the fixed get_log_probs                                                                                \n",
    "agent = REINFORCE()  # Reload with the fix                                                  \n",
    "# Test with the same FEN                                                                                      \n",
    "log_probs_fixed = agent.policy.get_log_probs(fen_tensor, legal_moves)                                         \n",
    "print(f\"Fixed log probs for legal moves: {[log_probs_fixed[0, move].item() for move in legal_moves[:5]]}\")    \n",
    "print(f\"Sum of probabilities for legal moves: {torch.exp(log_probs_fixed[0, legal_moves]).sum().item()}\")    \n",
    "# Should be close to 1.0 and log probs should be reasonable (not -inf)"
   ]
  },
  {
   "cell_type": "code",
   "execution_count": null,
   "id": "8f6b8427",
   "metadata": {},
   "outputs": [],
   "source": []
  },
  {
   "cell_type": "code",
   "execution_count": null,
   "id": "12162e27",
   "metadata": {},
   "outputs": [],
   "source": []
  }
 ],
 "metadata": {
  "kernelspec": {
   "display_name": "chess",
   "language": "python",
   "name": "python3"
  },
  "language_info": {
   "codemirror_mode": {
    "name": "ipython",
    "version": 3
   },
   "file_extension": ".py",
   "mimetype": "text/x-python",
   "name": "python",
   "nbconvert_exporter": "python",
   "pygments_lexer": "ipython3",
   "version": "3.13.4"
  }
 },
 "nbformat": 4,
 "nbformat_minor": 5
}
